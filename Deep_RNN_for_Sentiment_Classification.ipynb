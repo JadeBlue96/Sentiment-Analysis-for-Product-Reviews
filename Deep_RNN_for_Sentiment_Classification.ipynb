{
  "nbformat": 4,
  "nbformat_minor": 0,
  "metadata": {
    "colab": {
      "name": "Deep RNN for Sentiment Classification.ipynb",
      "provenance": [],
      "collapsed_sections": [],
      "toc_visible": true
    },
    "kernelspec": {
      "name": "python3",
      "display_name": "Python 3"
    },
    "accelerator": "GPU"
  },
  "cells": [
    {
      "cell_type": "markdown",
      "metadata": {
        "id": "wWfmoQHHck_k",
        "colab_type": "text"
      },
      "source": [
        "# <center><b>CS5062 (Machine Learning) Assignment II: Deep Recurrent Neural Network for Sentiment Classification</b></center>\n"
      ]
    },
    {
      "cell_type": "markdown",
      "metadata": {
        "id": "Ru9oEY-Oc-Uu",
        "colab_type": "text"
      },
      "source": [
        "#### Accessing Google Drive\n"
      ]
    },
    {
      "cell_type": "code",
      "metadata": {
        "id": "RXAfAgwAdOzV",
        "colab_type": "code",
        "outputId": "046dd042-16cd-4618-aab7-3180a079bf8e",
        "colab": {
          "base_uri": "https://localhost:8080/",
          "height": 53
        }
      },
      "source": [
        "from google.colab import drive\n",
        "drive.mount('/gdrive')\n",
        "%cd /gdrive/My Drive/Colab Notebooks/CS5062ML: Sentiment Analysis"
      ],
      "execution_count": 0,
      "outputs": [
        {
          "output_type": "stream",
          "text": [
            "Drive already mounted at /gdrive; to attempt to forcibly remount, call drive.mount(\"/gdrive\", force_remount=True).\n",
            "/gdrive/My Drive/Colab Notebooks/CS5062ML: Sentiment Analysis\n"
          ],
          "name": "stdout"
        }
      ]
    },
    {
      "cell_type": "markdown",
      "metadata": {
        "id": "tr6LcFfhd30Z",
        "colab_type": "text"
      },
      "source": [
        "#### Importing libraries"
      ]
    },
    {
      "cell_type": "code",
      "metadata": {
        "id": "_FKXBaitXtwO",
        "colab_type": "code",
        "colab": {}
      },
      "source": [
        "%matplotlib inline\n",
        "%tensorflow_version 1.x\n",
        "\n",
        "import matplotlib.pyplot as plt\n",
        "import tensorflow as tf\n",
        "import numpy as np\n",
        "#from scipy.spatial.distance import cdist\n",
        "import re, random, math, collections, itertools\n",
        "from sklearn.metrics import classification_report, confusion_matrix\n",
        "import json\n",
        "\n",
        "# keras modules\n",
        "from tensorflow.python.keras.models import Sequential\n",
        "from tensorflow.python.keras.layers import Dense, GRU, Embedding\n",
        "from tensorflow.python.keras.optimizers import Adam, RMSprop\n",
        "from tensorflow.python.keras.preprocessing.text import Tokenizer\n",
        "from tensorflow.python.keras.preprocessing.sequence import pad_sequences\n",
        "from tensorflow.python.keras.callbacks import ModelCheckpoint, ReduceLROnPlateau\n",
        "\n",
        "#import tflearn\n",
        "#from tflearn.datasets import imdb"
      ],
      "execution_count": 0,
      "outputs": []
    },
    {
      "cell_type": "markdown",
      "metadata": {
        "id": "Lhxuv6T-fimq",
        "colab_type": "text"
      },
      "source": [
        "### Reading the Rotten Tomatoes and Nokia review texts"
      ]
    },
    {
      "cell_type": "code",
      "metadata": {
        "id": "Ih_R9ctXfYA4",
        "colab_type": "code",
        "colab": {}
      },
      "source": [
        "def readFiles():\n",
        "    '''\n",
        "    Reads the samples within each dataset, splits them and saves them to a list. Populates\n",
        "    the sentiment dictionary with positive and negative sentiments.\n",
        "    \n",
        "        Args:\n",
        "            \n",
        "        Returns:\n",
        "            sentimentDictionary(dict): the lookup dictionary\n",
        "            pos_rt(list): the positive samples from Rotten Tomatoes\n",
        "            neg_rt(list): the negative samples from Rotten Tomatoes\n",
        "            pos_nokia(list): the positive samples from the Nokia dataset \n",
        "            neg_nokia(list): the negative samples from the Nokia dataset\n",
        "    '''\n",
        "    sentimentDictionary = dict()\n",
        "    #reading pre-labeled input and splitting into lines\n",
        "    posSentences = open('rt-polarity.pos', 'r', encoding=\"ISO-8859-1\")\n",
        "    pos_rt = re.split(r'\\n', posSentences.read())\n",
        "\n",
        "    negSentences = open('rt-polarity.neg', 'r', encoding=\"ISO-8859-1\")\n",
        "    neg_rt = re.split(r'\\n', negSentences.read())\n",
        "\n",
        "    posSentencesNokia = open('nokia-pos.txt', 'r')\n",
        "    pos_nokia = re.split(r'\\n', posSentencesNokia.read())\n",
        "\n",
        "    negSentencesNokia = open('nokia-neg.txt', 'r', encoding=\"ISO-8859-1\")\n",
        "    neg_nokia = re.split(r'\\n', negSentencesNokia.read())\n",
        " \n",
        "    posDictionary = open('positive-words.txt', 'r', encoding=\"ISO-8859-1\")\n",
        "    posWordList = posDictionary.readlines()\n",
        "    posWordList = [line.strip() for line in posWordList if not line.startswith(\";\") and not line == '\\n']\n",
        "    #posWordList = re.findall(r\"[a-z\\-]+\", posDictionary.read())\n",
        "\n",
        "    negDictionary = open('negative-words.txt', 'r', encoding=\"ISO-8859-1\")\n",
        "    negWordList = negDictionary.readlines()\n",
        "    negWordList = [line.strip() for line in negWordList if not line.startswith(\";\") and not line == '\\n']\n",
        "    #negWordList = re.findall(r\"[a-z\\-]+\", negDictionary.read())\n",
        "\n",
        "    for i in posWordList:\n",
        "        sentimentDictionary[i] = 1\n",
        "    for i in negWordList:\n",
        "        sentimentDictionary[i] = -1\n",
        "\n",
        "    return sentimentDictionary, pos_rt, neg_rt, pos_nokia, neg_nokia"
      ],
      "execution_count": 0,
      "outputs": []
    },
    {
      "cell_type": "code",
      "metadata": {
        "id": "AJUg0tmKgb9R",
        "colab_type": "code",
        "colab": {}
      },
      "source": [
        "sent_dict, pos_rt, neg_rt, pos_nokia, neg_nokia = readFiles()"
      ],
      "execution_count": 0,
      "outputs": []
    },
    {
      "cell_type": "code",
      "metadata": {
        "id": "J7izBfqahxjh",
        "colab_type": "code",
        "outputId": "13fd44bd-0d5d-4a34-c2e6-be7a1acec333",
        "colab": {
          "base_uri": "https://localhost:8080/",
          "height": 53
        }
      },
      "source": [
        "print('Print total positive words in sentiment dictionary:', sum([v == 1 for v in sent_dict.values()]))\n",
        "print('Print total negative words in sentiment dictionary:', sum([v == -1 for v in sent_dict.values()]))"
      ],
      "execution_count": 0,
      "outputs": [
        {
          "output_type": "stream",
          "text": [
            "Print total positive words in sentiment dictionary: 2003\n",
            "Print total negative words in sentiment dictionary: 4783\n"
          ],
          "name": "stdout"
        }
      ]
    },
    {
      "cell_type": "code",
      "metadata": {
        "id": "Q2T9IHohhSpu",
        "colab_type": "code",
        "outputId": "e5bc5f25-4a21-4f3a-ee00-42119ba4afcb",
        "colab": {
          "base_uri": "https://localhost:8080/",
          "height": 35
        }
      },
      "source": [
        "print(len(pos_rt), len(neg_rt))"
      ],
      "execution_count": 0,
      "outputs": [
        {
          "output_type": "stream",
          "text": [
            "5332 5332\n"
          ],
          "name": "stdout"
        }
      ]
    },
    {
      "cell_type": "code",
      "metadata": {
        "id": "mGuBY7gBhU_f",
        "colab_type": "code",
        "outputId": "ffa596e9-6ec8-488b-a1a0-4954be49d3cb",
        "colab": {
          "base_uri": "https://localhost:8080/",
          "height": 35
        }
      },
      "source": [
        "pos_nokia[3]"
      ],
      "execution_count": 0,
      "outputs": [
        {
          "output_type": "execute_result",
          "data": {
            "text/plain": [
              "'the speaker phone is very functional and i use it in the car , very audible even with freeway noise . '"
            ]
          },
          "metadata": {
            "tags": []
          },
          "execution_count": 181
        }
      ]
    },
    {
      "cell_type": "code",
      "metadata": {
        "id": "BUAPnjanvxLW",
        "colab_type": "code",
        "outputId": "e1c0be65-8097-4c69-d616-64cae3b9c3a5",
        "colab": {
          "base_uri": "https://localhost:8080/",
          "height": 35
        }
      },
      "source": [
        "print(len(pos_nokia), len(neg_nokia))"
      ],
      "execution_count": 0,
      "outputs": [
        {
          "output_type": "stream",
          "text": [
            "194 80\n"
          ],
          "name": "stdout"
        }
      ]
    },
    {
      "cell_type": "markdown",
      "metadata": {
        "id": "JTbyPBQawQxV",
        "colab_type": "text"
      },
      "source": [
        "#### Concatenate the Rotten Tomatoes data and create the labels"
      ]
    },
    {
      "cell_type": "code",
      "metadata": {
        "id": "oeeOltkawiiU",
        "colab_type": "code",
        "colab": {}
      },
      "source": [
        "def create_dataset(pos_rt, neg_rt):\n",
        "  '''\n",
        "    Concatenates the positive and negative samples into one dataset and creates a list of labels.\n",
        "    \n",
        "        Args:\n",
        "            pos_rt(list): the positive samples from the dataset\n",
        "            neg_rt(list): the negative samples from the dataset\n",
        "        Returns:\n",
        "            rt_data(list): the list of concatenated samples\n",
        "            rt_labels(list): the list of annotations for each sample\n",
        "  '''\n",
        "  rt_labels = list()\n",
        "  rt_data = pos_rt + neg_rt\n",
        "\n",
        "  for i in range(len(pos_rt)):\n",
        "    rt_labels.append(1)\n",
        "  \n",
        "  for i in range(len(neg_rt)):\n",
        "    rt_labels.append(0)\n",
        "\n",
        "  return rt_data, rt_labels"
      ],
      "execution_count": 0,
      "outputs": []
    },
    {
      "cell_type": "code",
      "metadata": {
        "id": "uErSAuLkxdu4",
        "colab_type": "code",
        "colab": {}
      },
      "source": [
        "rt_data, rt_labels = create_dataset(pos_rt, neg_rt)"
      ],
      "execution_count": 0,
      "outputs": []
    },
    {
      "cell_type": "code",
      "metadata": {
        "id": "BAxBI_gXv0BF",
        "colab_type": "code",
        "outputId": "8b1905d6-e794-4290-e9a0-8922b48a91c7",
        "colab": {
          "base_uri": "https://localhost:8080/",
          "height": 53
        }
      },
      "source": [
        "print(sum(v == 1 for v in rt_labels))\n",
        "print(sum(v == 0 for v in rt_labels))"
      ],
      "execution_count": 0,
      "outputs": [
        {
          "output_type": "stream",
          "text": [
            "5332\n",
            "5332\n"
          ],
          "name": "stdout"
        }
      ]
    },
    {
      "cell_type": "code",
      "metadata": {
        "id": "vB0VZxuNwNxH",
        "colab_type": "code",
        "outputId": "c5a57a3d-f997-4da8-eced-50273eef6154",
        "colab": {
          "base_uri": "https://localhost:8080/",
          "height": 35
        }
      },
      "source": [
        "print(len(rt_data))"
      ],
      "execution_count": 0,
      "outputs": [
        {
          "output_type": "stream",
          "text": [
            "10664\n"
          ],
          "name": "stdout"
        }
      ]
    },
    {
      "cell_type": "markdown",
      "metadata": {
        "id": "t7_rf7qq1RLx",
        "colab_type": "text"
      },
      "source": [
        "#### Preprocess the sentences"
      ]
    },
    {
      "cell_type": "code",
      "metadata": {
        "id": "GWJUwhCGwOxs",
        "colab_type": "code",
        "colab": {}
      },
      "source": [
        "tokenizer = Tokenizer(num_words=None)"
      ],
      "execution_count": 0,
      "outputs": []
    },
    {
      "cell_type": "code",
      "metadata": {
        "id": "ALqLk0AA1zIo",
        "colab_type": "code",
        "outputId": "05789a42-bbdb-47b6-e213-a5c39e083739",
        "colab": {
          "base_uri": "https://localhost:8080/",
          "height": 53
        }
      },
      "source": [
        "%%time\n",
        "tokenizer.fit_on_texts(rt_data)"
      ],
      "execution_count": 0,
      "outputs": [
        {
          "output_type": "stream",
          "text": [
            "CPU times: user 300 ms, sys: 3.87 ms, total: 303 ms\n",
            "Wall time: 310 ms\n"
          ],
          "name": "stdout"
        }
      ]
    },
    {
      "cell_type": "code",
      "metadata": {
        "id": "GxSVQVl82G6W",
        "colab_type": "code",
        "colab": {}
      },
      "source": [
        "top_words = tokenizer.word_counts\n",
        "top_words = sorted(top_words.items(), key=lambda kv: kv[1], reverse=True)[:20]"
      ],
      "execution_count": 0,
      "outputs": []
    },
    {
      "cell_type": "code",
      "metadata": {
        "id": "nbQN1ZuD2UqY",
        "colab_type": "code",
        "outputId": "1c015da9-6411-4d83-c294-822b813d4b1e",
        "colab": {
          "base_uri": "https://localhost:8080/",
          "height": 55
        }
      },
      "source": [
        "print(top_words)"
      ],
      "execution_count": 0,
      "outputs": [
        {
          "output_type": "stream",
          "text": [
            "[('the', 10192), ('a', 7335), ('and', 6263), ('of', 6147), ('to', 4275), ('is', 3383), ('in', 2671), ('that', 2472), ('it', 2289), ('as', 1808), ('but', 1641), ('with', 1562), ('film', 1457), ('for', 1455), ('this', 1442), ('its', 1338), ('an', 1326), ('movie', 1324), (\"it's\", 1127), ('be', 948)]\n"
          ],
          "name": "stdout"
        }
      ]
    },
    {
      "cell_type": "code",
      "metadata": {
        "id": "I8vSoioV2-Nx",
        "colab_type": "code",
        "outputId": "18205907-e445-40b1-fc08-ea2c0b6797ee",
        "colab": {
          "base_uri": "https://localhost:8080/",
          "height": 35
        }
      },
      "source": [
        "print('Number of unique words indexed:', len(tokenizer.word_index))"
      ],
      "execution_count": 0,
      "outputs": [
        {
          "output_type": "stream",
          "text": [
            "Number of unique words indexed: 19498\n"
          ],
          "name": "stdout"
        }
      ]
    },
    {
      "cell_type": "code",
      "metadata": {
        "id": "MJN9516M3Tym",
        "colab_type": "code",
        "colab": {}
      },
      "source": [
        "rt_data_sequences = tokenizer.texts_to_sequences(rt_data)"
      ],
      "execution_count": 0,
      "outputs": []
    },
    {
      "cell_type": "markdown",
      "metadata": {
        "id": "f3W9EbTzEtVu",
        "colab_type": "text"
      },
      "source": [
        "#### Split the data"
      ]
    },
    {
      "cell_type": "code",
      "metadata": {
        "id": "WtxAPj4l6wV2",
        "colab_type": "code",
        "colab": {}
      },
      "source": [
        "test_size = int(0.1 * len(rt_data_sequences))\n",
        "rt_data_np = np.vstack((rt_data_sequences, rt_labels)).T\n",
        "np.random.shuffle(rt_data_np)\n",
        "rt_features_train = list(rt_data_np[:, 0][:-test_size])\n",
        "rt_labels_train = list(rt_data_np[:, 1][:-test_size])\n",
        "rt_features_test = list(rt_data_np[:, 0][-test_size:])\n",
        "rt_labels_test = list(rt_data_np[:, 1][-test_size:])"
      ],
      "execution_count": 0,
      "outputs": []
    },
    {
      "cell_type": "code",
      "metadata": {
        "id": "4D_uZMvnH70c",
        "colab_type": "code",
        "outputId": "444f88cc-9282-4b65-bf32-e32272e5ee25",
        "colab": {
          "base_uri": "https://localhost:8080/",
          "height": 35
        }
      },
      "source": [
        "print(rt_data_np.shape, len(rt_features_train), len(rt_features_test), len(rt_labels_train), len(rt_labels_test))"
      ],
      "execution_count": 0,
      "outputs": [
        {
          "output_type": "stream",
          "text": [
            "(10664, 2) 9598 1066 9598 1066\n"
          ],
          "name": "stdout"
        }
      ]
    },
    {
      "cell_type": "code",
      "metadata": {
        "id": "Qsp9DpQEIAnl",
        "colab_type": "code",
        "outputId": "89135549-de5f-4a6d-b7d3-3087550d4d7f",
        "colab": {
          "base_uri": "https://localhost:8080/",
          "height": 55
        }
      },
      "source": [
        "print(rt_features_train[:3], rt_labels_train[:3])"
      ],
      "execution_count": 0,
      "outputs": [
        {
          "output_type": "stream",
          "text": [
            "[[3622, 874, 296, 7, 1322, 3, 4302, 11756, 11757, 674, 159, 83, 2747, 6138, 10, 2, 235, 682, 4, 133, 311, 8133, 3, 11758], [2, 1546, 8118, 173, 4, 85, 2698, 3, 8119], [9, 78, 23, 20, 296, 640, 11, 216, 259, 49, 38, 9, 6, 640, 11, 9, 75, 14, 25, 4, 1, 50, 2998, 350, 3, 503, 12396, 31, 1, 95, 712, 215, 7, 2, 89]] [1, 1, 1]\n"
          ],
          "name": "stdout"
        }
      ]
    },
    {
      "cell_type": "markdown",
      "metadata": {
        "id": "pIjGvYAdKz6o",
        "colab_type": "text"
      },
      "source": [
        "#### Padding and selecting the maximum number of tokens"
      ]
    },
    {
      "cell_type": "code",
      "metadata": {
        "id": "vNjilZ4aIG37",
        "colab_type": "code",
        "colab": {}
      },
      "source": [
        "def pad_tokenized_data(train_tokens, test_tokens, sigma=2, pad_type='pre'):\n",
        "  '''\n",
        "    Calculates a percentage of the dataset to keep based on sigma to eliminate long sequences of tokens.\n",
        "    Pads the remaining sentences with 0 to match the sequence with the maximum length.\n",
        "    \n",
        "        Args:\n",
        "            train_tokens(list): the tokenized list of training sentences\n",
        "            test_tokens(list): the tokenized list of test sentences\n",
        "            sigma(int): the weight value for the standard deviation, which affects the number of tokens to keep\n",
        "            pad_type(str): 'pre' - pads the sentences with 0 before the initial token values;\n",
        "                           'post' - pads the sentences with 0 after the initial token values;\n",
        "        Returns:\n",
        "            max_tokens(int): the calculated maximum number of tokens left in the dataset\n",
        "            train_pad(list): the padded list of preprocessed training tokens\n",
        "            test_pad(list): the padded list of preprocessed test tokens\n",
        "  '''\n",
        "  num_tokens = [len(tokens) for tokens in train_tokens]\n",
        "  num_tokens += [len(tokens) for tokens in test_tokens]\n",
        "  num_tokens = np.array(num_tokens)\n",
        "  print('Average number of tokens:', np.mean(num_tokens))\n",
        "  print('Max number of tokens:', np.max(num_tokens))\n",
        "  max_tokens = np.mean(num_tokens) + sigma * np.std(num_tokens)\n",
        "  max_tokens = int(max_tokens)\n",
        "  # limit the max number of tokens in a sentence by removing long examples\n",
        "  print('Max number of allowed tokens in the network:', max_tokens)\n",
        "  print('% of dataset to keep:', np.sum(num_tokens < max_tokens) / len(num_tokens))\n",
        "\n",
        "  train_pad = pad_sequences(train_tokens, maxlen=max_tokens,\n",
        "                            padding=pad_type, truncating=pad_type)\n",
        "  test_pad = pad_sequences(test_tokens, maxlen=max_tokens,\n",
        "                            padding=pad_type, truncating=pad_type)\n",
        "  \n",
        "  print('Padded shapes: Train({}), Test({})'.format(train_pad.shape, test_pad.shape))\n",
        "\n",
        "  return max_tokens, train_pad, test_pad"
      ],
      "execution_count": 0,
      "outputs": []
    },
    {
      "cell_type": "code",
      "metadata": {
        "id": "TQ4tfWhRN8MA",
        "colab_type": "code",
        "outputId": "9bd75c71-bd86-42e4-e716-e9241b674978",
        "colab": {
          "base_uri": "https://localhost:8080/",
          "height": 108
        }
      },
      "source": [
        "max_tokens, rt_features_train_pad, rt_features_test_pad = pad_tokenized_data(rt_features_train, rt_features_test)"
      ],
      "execution_count": 0,
      "outputs": [
        {
          "output_type": "stream",
          "text": [
            "Average number of tokens: 18.888034508627157\n",
            "Max number of tokens: 51\n",
            "Max number of allowed tokens in the network: 36\n",
            "% of dataset to keep: 0.9629594898724682\n",
            "Padded shapes: Train((9598, 36)), Test((1066, 36))\n"
          ],
          "name": "stdout"
        }
      ]
    },
    {
      "cell_type": "markdown",
      "metadata": {
        "id": "dZecJXY5PBTi",
        "colab_type": "text"
      },
      "source": [
        "#### Get the sentences from the word tokens"
      ]
    },
    {
      "cell_type": "code",
      "metadata": {
        "id": "3Dg5hhRxOGWp",
        "colab_type": "code",
        "colab": {}
      },
      "source": [
        "def get_sentence(tokens, tokenizer):\n",
        "  '''\n",
        "    Inverse-maps the tokenized sentence to its original counterpart using the Tokenizer class.\n",
        "    \n",
        "        Args:\n",
        "            tokens(np.array): an input array of tokens\n",
        "            tokenizer(Tokenizer): the fit Tokenizer object from Keras\n",
        "        Returns:\n",
        "            text(str): the original sentence\n",
        "  '''\n",
        "  idx = tokenizer.word_index\n",
        "  inverse_map = dict(zip(idx.values(), idx.keys()))\n",
        "  sentence = list()\n",
        "  # Map from tokens back to words.\n",
        "  for token in tokens:\n",
        "    if token != 0:\n",
        "      sentence.append(inverse_map[token])\n",
        "  \n",
        "  # Concatenate all words.\n",
        "  text = \" \".join(sentence)\n",
        "\n",
        "  return text"
      ],
      "execution_count": 0,
      "outputs": []
    },
    {
      "cell_type": "code",
      "metadata": {
        "id": "qwyD45ZrPlSd",
        "colab_type": "code",
        "outputId": "6e23e9c5-df36-45ab-8264-95ee2524dac5",
        "colab": {
          "base_uri": "https://localhost:8080/",
          "height": 53
        }
      },
      "source": [
        "print('Sentence: ', get_sentence(np.array(rt_features_train[1]), tokenizer))\n",
        "print('Label: ', rt_labels_train[1])"
      ],
      "execution_count": 0,
      "outputs": [
        {
          "output_type": "stream",
          "text": [
            "Sentence:  a wonderfully loopy tale of love longing and voting\n",
            "Label:  1\n"
          ],
          "name": "stdout"
        }
      ]
    },
    {
      "cell_type": "markdown",
      "metadata": {
        "id": "-HnOw6HzVGDz",
        "colab_type": "text"
      },
      "source": [
        "#### Build the RNN"
      ]
    },
    {
      "cell_type": "code",
      "metadata": {
        "id": "aV8bvYfqGw2s",
        "colab_type": "code",
        "colab": {}
      },
      "source": [
        "learning_rate_reduction = ReduceLROnPlateau(monitor='val_loss', \n",
        "                                            patience=3, \n",
        "                                            verbose=1, \n",
        "                                            factor=0.5, \n",
        "                                            min_lr=0.00001)\n",
        "model_checkpointer = ModelCheckpoint('./best_rnn.h5',\n",
        "                                monitor='val_loss',\n",
        "                                verbose=1,\n",
        "                                save_best_only=True,\n",
        "                                mode='min')"
      ],
      "execution_count": 0,
      "outputs": []
    },
    {
      "cell_type": "code",
      "metadata": {
        "id": "Zl9UUNXgPtAX",
        "colab_type": "code",
        "colab": {}
      },
      "source": [
        "def build_sentiment_rnn(tokenizer, max_tokens, emb_size=8):\n",
        "  '''\n",
        "    Creates a 3-layer Recurrent Neural Network with GRU units.\n",
        "    \n",
        "        Args:\n",
        "            tokenizer(Tokenizer): the fit Tokenizer object from Keras\n",
        "            max_tokens(int): the calculated maximum number of tokens left in the dataset\n",
        "            emb_size(int): the width of the embedding matrix used for repeating the embeddings across multiple dimensions.\n",
        "        Returns:\n",
        "            model(Sequential): the trained Keras model\n",
        "  '''\n",
        "  model = Sequential()\n",
        "  model.add(Embedding(input_dim=len(tokenizer.word_counts), output_dim=emb_size, input_length=max_tokens, name='emb'))\n",
        "  model.add(GRU(units=16, return_sequences=True))\n",
        "  model.add(GRU(units=8, return_sequences=True))\n",
        "  model.add(GRU(units=4))\n",
        "  model.add(Dense(1, activation='sigmoid'))\n",
        "  model.compile(loss='binary_crossentropy',\n",
        "              optimizer=RMSprop(lr=0.001),\n",
        "              metrics=['accuracy'])\n",
        "  print(model.summary())\n",
        "  return model"
      ],
      "execution_count": 0,
      "outputs": []
    },
    {
      "cell_type": "code",
      "metadata": {
        "id": "claDxYaAYjXD",
        "colab_type": "code",
        "outputId": "42c76ef5-98c7-46f3-d33c-d901b83d53f0",
        "colab": {
          "base_uri": "https://localhost:8080/",
          "height": 362
        }
      },
      "source": [
        "rnn_model = build_sentiment_rnn(tokenizer, max_tokens)"
      ],
      "execution_count": 0,
      "outputs": [
        {
          "output_type": "stream",
          "text": [
            "Model: \"sequential_5\"\n",
            "_________________________________________________________________\n",
            "Layer (type)                 Output Shape              Param #   \n",
            "=================================================================\n",
            "emb (Embedding)              (None, 36, 8)             155984    \n",
            "_________________________________________________________________\n",
            "gru_15 (GRU)                 (None, 36, 16)            1200      \n",
            "_________________________________________________________________\n",
            "gru_16 (GRU)                 (None, 36, 8)             600       \n",
            "_________________________________________________________________\n",
            "gru_17 (GRU)                 (None, 4)                 156       \n",
            "_________________________________________________________________\n",
            "dense_5 (Dense)              (None, 1)                 5         \n",
            "=================================================================\n",
            "Total params: 157,945\n",
            "Trainable params: 157,945\n",
            "Non-trainable params: 0\n",
            "_________________________________________________________________\n",
            "None\n"
          ],
          "name": "stdout"
        }
      ]
    },
    {
      "cell_type": "code",
      "metadata": {
        "id": "ZN-HsnMvkGIT",
        "colab_type": "code",
        "colab": {}
      },
      "source": [
        "def save_hist(filename, history):\n",
        "  '''\n",
        "    Helper-function for saving the model history.\n",
        "    \n",
        "        Args:\n",
        "            filename(str): the output filename.\n",
        "            history(str): a stringified JSON object\n",
        "        Returns:\n",
        "  '''\n",
        "    with open(filename, \"w\") as write_file:\n",
        "        json.dump(history, write_file)\n",
        "def load_hist(filename):\n",
        "  '''\n",
        "    Helper-function for loading the model history.\n",
        "    \n",
        "        Args:\n",
        "            filename(str): the input filename.\n",
        "        Returns:\n",
        "            train_hist(JSON): a JSON object containing the model history.\n",
        "  '''\n",
        "    with open(filename, 'r', encoding='utf-8') as read_file:\n",
        "        train_hist = json.loads(read_file.read())\n",
        "        return train_hist"
      ],
      "execution_count": 0,
      "outputs": []
    },
    {
      "cell_type": "code",
      "metadata": {
        "id": "WYXV2KnpYtfZ",
        "colab_type": "code",
        "outputId": "21728fcb-cbe5-449f-f9d4-a77c87c26f44",
        "colab": {
          "base_uri": "https://localhost:8080/",
          "height": 871
        }
      },
      "source": [
        "%%time\n",
        "#rnn_model.load_weights('best_rnn.h5')\n",
        "history = rnn_model.fit(rt_features_train_pad, rt_labels_train,\n",
        "          validation_split=0.05, epochs=10, batch_size=32,\n",
        "          callbacks=[model_checkpointer, learning_rate_reduction])"
      ],
      "execution_count": 0,
      "outputs": [
        {
          "output_type": "stream",
          "text": [
            "Train on 9118 samples, validate on 480 samples\n",
            "Epoch 1/10\n",
            "9088/9118 [============================>.] - ETA: 0s - loss: 0.6532 - acc: 0.6057\n",
            "Epoch 00001: val_loss improved from inf to 0.57245, saving model to ./best_rnn.h5\n",
            "9118/9118 [==============================] - 54s 6ms/sample - loss: 0.6528 - acc: 0.6063 - val_loss: 0.5724 - val_acc: 0.6979\n",
            "Epoch 2/10\n",
            "9088/9118 [============================>.] - ETA: 0s - loss: 0.4684 - acc: 0.7827\n",
            "Epoch 00002: val_loss improved from 0.57245 to 0.48890, saving model to ./best_rnn.h5\n",
            "9118/9118 [==============================] - 48s 5ms/sample - loss: 0.4684 - acc: 0.7825 - val_loss: 0.4889 - val_acc: 0.7646\n",
            "Epoch 3/10\n",
            "9088/9118 [============================>.] - ETA: 0s - loss: 0.3572 - acc: 0.8485\n",
            "Epoch 00003: val_loss improved from 0.48890 to 0.47282, saving model to ./best_rnn.h5\n",
            "9118/9118 [==============================] - 48s 5ms/sample - loss: 0.3578 - acc: 0.8483 - val_loss: 0.4728 - val_acc: 0.7708\n",
            "Epoch 4/10\n",
            "9088/9118 [============================>.] - ETA: 0s - loss: 0.2951 - acc: 0.8814\n",
            "Epoch 00004: val_loss improved from 0.47282 to 0.46024, saving model to ./best_rnn.h5\n",
            "9118/9118 [==============================] - 48s 5ms/sample - loss: 0.2952 - acc: 0.8813 - val_loss: 0.4602 - val_acc: 0.7896\n",
            "Epoch 5/10\n",
            "9088/9118 [============================>.] - ETA: 0s - loss: 0.2499 - acc: 0.9031\n",
            "Epoch 00005: val_loss did not improve from 0.46024\n",
            "9118/9118 [==============================] - 48s 5ms/sample - loss: 0.2503 - acc: 0.9028 - val_loss: 0.4740 - val_acc: 0.7979\n",
            "Epoch 6/10\n",
            "9088/9118 [============================>.] - ETA: 0s - loss: 0.2199 - acc: 0.9147\n",
            "Epoch 00006: val_loss did not improve from 0.46024\n",
            "9118/9118 [==============================] - 48s 5ms/sample - loss: 0.2202 - acc: 0.9148 - val_loss: 0.4693 - val_acc: 0.7875\n",
            "Epoch 7/10\n",
            "9088/9118 [============================>.] - ETA: 0s - loss: 0.2002 - acc: 0.9234\n",
            "Epoch 00007: val_loss did not improve from 0.46024\n",
            "\n",
            "Epoch 00007: ReduceLROnPlateau reducing learning rate to 0.0005000000237487257.\n",
            "9118/9118 [==============================] - 49s 5ms/sample - loss: 0.2000 - acc: 0.9234 - val_loss: 0.4990 - val_acc: 0.8062\n",
            "Epoch 8/10\n",
            "9088/9118 [============================>.] - ETA: 0s - loss: 0.1648 - acc: 0.9426\n",
            "Epoch 00008: val_loss did not improve from 0.46024\n",
            "9118/9118 [==============================] - 48s 5ms/sample - loss: 0.1650 - acc: 0.9423 - val_loss: 0.5232 - val_acc: 0.7917\n",
            "Epoch 9/10\n",
            "9088/9118 [============================>.] - ETA: 0s - loss: 0.1561 - acc: 0.9420\n",
            "Epoch 00009: val_loss did not improve from 0.46024\n",
            "9118/9118 [==============================] - 48s 5ms/sample - loss: 0.1568 - acc: 0.9418 - val_loss: 0.4998 - val_acc: 0.8021\n",
            "Epoch 10/10\n",
            "9088/9118 [============================>.] - ETA: 0s - loss: 0.1493 - acc: 0.9460\n",
            "Epoch 00010: val_loss did not improve from 0.46024\n",
            "\n",
            "Epoch 00010: ReduceLROnPlateau reducing learning rate to 0.0002500000118743628.\n",
            "9118/9118 [==============================] - 48s 5ms/sample - loss: 0.1497 - acc: 0.9458 - val_loss: 0.5224 - val_acc: 0.8083\n",
            "CPU times: user 10min 30s, sys: 25.1 s, total: 10min 55s\n",
            "Wall time: 8min 11s\n"
          ],
          "name": "stdout"
        }
      ]
    },
    {
      "cell_type": "code",
      "metadata": {
        "id": "Y8HMWKvpkrcv",
        "colab_type": "code",
        "colab": {}
      },
      "source": [
        "save_hist('./best_rnn.json', str(history.history))\n",
        "#history = load_hist('./best_rnn.json')"
      ],
      "execution_count": 0,
      "outputs": []
    },
    {
      "cell_type": "markdown",
      "metadata": {
        "id": "ocmpOcD7L6xy",
        "colab_type": "text"
      },
      "source": [
        "#### Evaluation"
      ]
    },
    {
      "cell_type": "code",
      "metadata": {
        "id": "e2rkMjcjFMOc",
        "colab_type": "code",
        "colab": {}
      },
      "source": [
        "def plot_learning_curves(history):\n",
        "  '''\n",
        "    Helper-function for plotting the model learning curves.\n",
        "    \n",
        "        Args:\n",
        "            history(dict): the dictionary containing the performance metrics over epochs\n",
        "        Returns:\n",
        "  '''\n",
        "  acc = history.history['acc']\n",
        "  val_acc = history.history['val_acc']\n",
        "  loss = history.history['loss']\n",
        "  val_loss = history.history['val_loss']\n",
        "  epochs = range(1, len(acc) + 1)\n",
        "  \n",
        "  plt.figure(figsize=(15, 6))\n",
        "  plt.subplot(1, 2, 1)\n",
        "  plt.plot(epochs, acc, 'r', label='Training acc')\n",
        "  plt.plot(epochs, val_acc, 'b', label='Validation acc')\n",
        "  plt.title('Training and validation accuracy')\n",
        "  plt.legend()\n",
        "  plt.subplot(1, 2, 2)\n",
        "  plt.plot(epochs, loss, 'r', label='Training loss')\n",
        "  plt.plot(epochs, val_loss, 'b', label='Validation loss')\n",
        "  plt.title('Training and validation loss')\n",
        "  plt.legend()\n",
        "  plt.show()"
      ],
      "execution_count": 0,
      "outputs": []
    },
    {
      "cell_type": "code",
      "metadata": {
        "id": "C93UB6qEIyXh",
        "colab_type": "code",
        "outputId": "d5154918-4141-4e0e-aef4-c65906cd8c6a",
        "colab": {
          "base_uri": "https://localhost:8080/",
          "height": 390
        }
      },
      "source": [
        "plot_learning_curves(history)"
      ],
      "execution_count": 0,
      "outputs": [
        {
          "output_type": "display_data",
          "data": {
            "image/png": "[encoded data removed]",
            "text/plain": [
              "<Figure size 1080x432 with 2 Axes>"
            ]
          },
          "metadata": {
            "tags": []
          }
        }
      ]
    },
    {
      "cell_type": "code",
      "metadata": {
        "id": "mDm09ScYKl5U",
        "colab_type": "code",
        "colab": {}
      },
      "source": [
        "def plot_confusion_matrix_and_report(features, labels, model, classes=['negative', 'positive']):\n",
        "    '''\n",
        "    Helper-function for plotting the confusion matrix and printing the performance metrics.\n",
        "    \n",
        "        Args:\n",
        "            features(list): the test input sentences\n",
        "            labels(list): the annotations for the input sentences\n",
        "            model(Sequential): the trained Keras model\n",
        "            classes(list): the list of class names to display\n",
        "        Returns:\n",
        "    '''\n",
        "    test_pred = model.predict(features)\n",
        "    test_pred = test_pred.T[0]\n",
        "    print(\"Classification report\")\n",
        "    cls_pred = np.int32(np.array([1.0 if p>0.5 else 0.0 for p in test_pred]))\n",
        "    cls_true = np.int32(np.array(labels))\n",
        "    print(classification_report(cls_true, cls_pred, target_names=classes))    \n",
        "\n",
        "    # Loss function and accuracy\n",
        "    test_res = model.evaluate(features, labels, verbose=1)\n",
        "    print('Loss: {}, Accuracy: {}'.format(test_res[0], test_res[1]))\n",
        "    \n",
        "    # Confusion Matrix\n",
        "    print('Confusion matrix.')\n",
        "    \n",
        "    cm_test = confusion_matrix(cls_true, cls_pred)\n",
        "    print(cm_test)\n",
        "    print()\n",
        "    fig = plt.figure(figsize=(10,6))\n",
        "    ax = fig.add_subplot(111)\n",
        "    cax = ax.matshow(cm_test, cmap=plt.get_cmap('gray'))\n",
        "    plt.title('Confusion matrix')\n",
        "    fig.colorbar(cax)\n",
        "    ax.set_xticklabels([''] + classes)\n",
        "    ax.set_yticklabels([''] + classes)\n",
        "    plt.xlabel('Predicted')\n",
        "    plt.ylabel('True')\n",
        "    plt.show()\n",
        "\n",
        "    # Example errors\n",
        "    print('First 10 Errors')\n",
        "    incorrect = np.where(cls_pred != cls_true)\n",
        "    incorrect = incorrect[0]\n",
        "    for i in range(10):\n",
        "      if i > (len(incorrect) - 1):\n",
        "        break\n",
        "      idx = incorrect[i]\n",
        "      print('Sample: ', i)\n",
        "      print('Sentence: ', get_sentence(np.array(features[idx]), tokenizer))\n",
        "      print('True Label:{}, Predicted Label:{}'.format(labels[idx], cls_pred[idx]))\n",
        "      print()\n",
        "    \n",
        "    "
      ],
      "execution_count": 0,
      "outputs": []
    },
    {
      "cell_type": "code",
      "metadata": {
        "id": "CMbkGBq2MvJo",
        "colab_type": "code",
        "outputId": "4924b3ae-c9d7-4a2d-d154-56d02db4992e",
        "colab": {
          "base_uri": "https://localhost:8080/",
          "height": 1000
        }
      },
      "source": [
        "plot_confusion_matrix_and_report(rt_features_test_pad, rt_labels_test, rnn_model)"
      ],
      "execution_count": 0,
      "outputs": [
        {
          "output_type": "stream",
          "text": [
            "Classification report\n",
            "              precision    recall  f1-score   support\n",
            "\n",
            "    negative       0.80      0.75      0.77       516\n",
            "    positive       0.78      0.83      0.80       550\n",
            "\n",
            "    accuracy                           0.79      1066\n",
            "   macro avg       0.79      0.79      0.79      1066\n",
            "weighted avg       0.79      0.79      0.79      1066\n",
            "\n",
            "1066/1066 [==============================] - 1s 1ms/sample - loss: 0.6179 - acc: 0.7880\n",
            "Loss: 0.6178504592034875, Accuracy: 0.7879924774169922\n",
            "Confusion matrix.\n",
            "[[386 130]\n",
            " [ 96 454]]\n",
            "\n"
          ],
          "name": "stdout"
        },
        {
          "output_type": "display_data",
          "data": {
            "image/png": "[encoded data removed]",
            "text/plain": [
              "<Figure size 720x432 with 2 Axes>"
            ]
          },
          "metadata": {
            "tags": []
          }
        },
        {
          "output_type": "stream",
          "text": [
            "First 10 Errors\n",
            "Sample:  0\n",
            "Sentence:  returning director rob minkoff and screenwriter bruce joel rubin have done a fine job of updating white's dry wit to a new age\n",
            "True Label:1, Predicted Label:0\n",
            "\n",
            "Sample:  1\n",
            "Sentence:  it wraps up a classic mother daughter struggle in recycled paper with a shiny new bow and while the audience can tell it's not all new at least it looks pretty\n",
            "True Label:0, Predicted Label:1\n",
            "\n",
            "Sample:  2\n",
            "Sentence:  there's a thin line between likably old fashioned and fuddy duddy and the count of monte cristo never quite settles on either side\n",
            "True Label:0, Predicted Label:1\n",
            "\n",
            "Sample:  3\n",
            "Sentence:  if i spy were funny enough or exciting enough then it would be fairly simple to forgive the financial extortion it's trying to reap from the moviegoing public\n",
            "True Label:0, Predicted Label:1\n",
            "\n",
            "Sample:  4\n",
            "Sentence:  the paradiso's rusted out ruin and ultimate collapse during the film's final restored thirdemotionally belittle a cinema classic sometimes shorter is better\n",
            "True Label:1, Predicted Label:0\n",
            "\n",
            "Sample:  5\n",
            "Sentence:  that proposes as epic tragedy the plight of a callow rich boy who is forced to choose between his beautiful self satisfied 22 year old girlfriend and an equally beautiful self satisfied 18 year old mistress\n",
            "True Label:0, Predicted Label:1\n",
            "\n",
            "Sample:  6\n",
            "Sentence:  it winds up moving in many directions as it searches vainly i think for something fresh to say\n",
            "True Label:0, Predicted Label:1\n",
            "\n",
            "Sample:  7\n",
            "Sentence:  even when it drags we are forced to reflect that its visual imagination is breathtaking\n",
            "True Label:1, Predicted Label:0\n",
            "\n",
            "Sample:  8\n",
            "Sentence:  director oliver parker labors so hard to whip life into the importance of being earnest that he probably pulled a muscle or two\n",
            "True Label:0, Predicted Label:1\n",
            "\n",
            "Sample:  9\n",
            "Sentence:  a noble failure\n",
            "True Label:0, Predicted Label:1\n",
            "\n"
          ],
          "name": "stdout"
        }
      ]
    },
    {
      "cell_type": "markdown",
      "metadata": {
        "id": "tJLQxqPqby26",
        "colab_type": "text"
      },
      "source": [
        "#### Predict new samples"
      ]
    },
    {
      "cell_type": "code",
      "metadata": {
        "id": "BCd9JCJ6M8iq",
        "colab_type": "code",
        "colab": {}
      },
      "source": [
        "def predict_new_samples(samples, tokenizer, model, max_tokens=max_tokens, pad_type='pre'):\n",
        "  '''\n",
        "    Helper-function for running new samples for prediction.\n",
        "    \n",
        "        Args:\n",
        "            samples(list): the list of input samples to predict\n",
        "            tokenizer(Tokenizer): the fit Keras Tokenizer object\n",
        "            model(Sequential): the trained Keras RNN model\n",
        "            max_tokens(int): the calculated maximum number of tokens allowed for the model\n",
        "            pad_type(str): 'pre' - pads the sentences with 0 before the initial token values;\n",
        "                           'post' - pads the sentences with 0 after the initial token values;\n",
        "\n",
        "        Returns:\n",
        "    '''\n",
        "  tokens = tokenizer.texts_to_sequences(samples)\n",
        "  tokens_pad = pad_sequences(tokens, maxlen=max_tokens,\n",
        "                           padding=pad_type, truncating=pad_type)\n",
        "  test_pred = model.predict(tokens_pad)\n",
        "  test_pred = test_pred.T[0]\n",
        "  cls_pred = np.int32(np.array([1.0 if p>0.5 else 0.0 for p in test_pred]))\n",
        "  for i in range(len(samples)):\n",
        "    print('Sample:{}, Prediction:{}'.format(samples[i], cls_pred[i]))"
      ],
      "execution_count": 0,
      "outputs": []
    },
    {
      "cell_type": "code",
      "metadata": {
        "id": "JS0Yz22lXu5X",
        "colab_type": "code",
        "colab": {}
      },
      "source": [
        "samples = [\n",
        "           'This movie was extremely bad.',\n",
        "           'It was decent, I guess..',\n",
        "           'Fantastic acting, main character is guaranteed an Oscar nomination!!',\n",
        "           'The ending was really emotional, left me in tears.',\n",
        "           'A romantic comedy that operates by the rules of its own self-contained universe.', #true - positive\n",
        "           'The film is faithful to what one presumes are the book\\'s twin premises -- that we become who we are on the backs of our parents , but we have no idea who they were at our age ; and that time is a fleeting and precious commodity no matter how old you are.', # positive\n",
        "           'Its scenes and sensibility are all more than familiar , but it exudes a kind of nostalgic spy-movie charm and , at the same time , is so fresh and free of the usual thriller nonsense that it all seems to be happening for the first time.', # positive\n",
        "           'Greene delivers a typically solid performance in a role that is a bit of a departure from the noble characters he has played in the past , and he is matched by schweig , who carries the film on his broad , handsome shoulders.', # positive\n",
        "           'Superbly mixes together a political and horror story in this shocker of a postcolonial supernatural fable.', # positive\n",
        "           'Motherless Brooklyn is so messy, confusing and pointless that you don\\'t know what\\'s going on half the time, and couldn\\'t care less.', # negative\n",
        "           'Edward Norton crafts an elegant neo-noir in Motherless Brooklyn. The intricate character study not only captures the depth of the evolution happening in the years following World War II, but telling an interesting an entertaining story.' # positive\n",
        "]"
      ],
      "execution_count": 0,
      "outputs": []
    },
    {
      "cell_type": "code",
      "metadata": {
        "id": "38472n50ZhIt",
        "colab_type": "code",
        "outputId": "76921ac9-7d49-4617-988d-d0c03958213b",
        "colab": {
          "base_uri": "https://localhost:8080/",
          "height": 237
        }
      },
      "source": [
        "predict_new_samples(samples, tokenizer, rnn_model)"
      ],
      "execution_count": 0,
      "outputs": [
        {
          "output_type": "stream",
          "text": [
            "Sample:This movie was extremely bad., Prediction:0\n",
            "Sample:It was decent, I guess.., Prediction:0\n",
            "Sample:Fantastic acting, main character is guaranteed an Oscar nomination!!, Prediction:1\n",
            "Sample:The ending was really emotional, left me in tears., Prediction:0\n",
            "Sample:A romantic comedy that operates by the rules of its own self-contained universe., Prediction:0\n",
            "Sample:The film is faithful to what one presumes are the book's twin premises -- that we become who we are on the backs of our parents , but we have no idea who they were at our age ; and that time is a fleeting and precious commodity no matter how old you are., Prediction:1\n",
            "Sample:Its scenes and sensibility are all more than familiar , but it exudes a kind of nostalgic spy-movie charm and , at the same time , is so fresh and free of the usual thriller nonsense that it all seems to be happening for the first time., Prediction:1\n",
            "Sample:Greene delivers a typically solid performance in a role that is a bit of a departure from the noble characters he has played in the past , and he is matched by schweig , who carries the film on his broad , handsome shoulders., Prediction:1\n",
            "Sample:Superbly mixes together a political and horror story in this shocker of a postcolonial supernatural fable., Prediction:1\n",
            "Sample:Motherless Brooklyn is so messy, confusing and pointless that you don't know what's going on half the time, and couldn't care less., Prediction:0\n",
            "Sample:Edward Norton crafts an elegant neo-noir in Motherless Brooklyn. The intricate character study not only captures the depth of the evolution happening in the years following World War II, but telling an interesting an entertaining story., Prediction:1\n"
          ],
          "name": "stdout"
        }
      ]
    },
    {
      "cell_type": "markdown",
      "metadata": {
        "id": "f9EjRJ0cb3ls",
        "colab_type": "text"
      },
      "source": [
        "### Nokia dataset"
      ]
    },
    {
      "cell_type": "markdown",
      "metadata": {
        "id": "cXuiKq8Vdixi",
        "colab_type": "text"
      },
      "source": [
        "#### Preprocessing"
      ]
    },
    {
      "cell_type": "code",
      "metadata": {
        "id": "HH0NxhmQZkYb",
        "colab_type": "code",
        "colab": {}
      },
      "source": [
        "nk_data, nk_labels = create_dataset(pos_nokia, neg_nokia)"
      ],
      "execution_count": 0,
      "outputs": []
    },
    {
      "cell_type": "code",
      "metadata": {
        "id": "9waJuTiVcEsP",
        "colab_type": "code",
        "outputId": "12f7eac2-4147-4a0b-ccfb-e10f539bcdf1",
        "colab": {
          "base_uri": "https://localhost:8080/",
          "height": 53
        }
      },
      "source": [
        "print(sum(v == 1 for v in nk_labels))\n",
        "print(sum(v == 0 for v in nk_labels))"
      ],
      "execution_count": 0,
      "outputs": [
        {
          "output_type": "stream",
          "text": [
            "194\n",
            "80\n"
          ],
          "name": "stdout"
        }
      ]
    },
    {
      "cell_type": "code",
      "metadata": {
        "id": "G94vzxDvcQkG",
        "colab_type": "code",
        "outputId": "25fe3a82-838e-46cb-a5ce-de4991536784",
        "colab": {
          "base_uri": "https://localhost:8080/",
          "height": 53
        }
      },
      "source": [
        "%%time\n",
        "tokenizer = Tokenizer(num_words=None)\n",
        "tokenizer.fit_on_texts(nk_data)"
      ],
      "execution_count": 0,
      "outputs": [
        {
          "output_type": "stream",
          "text": [
            "CPU times: user 11.3 ms, sys: 0 ns, total: 11.3 ms\n",
            "Wall time: 14.7 ms\n"
          ],
          "name": "stdout"
        }
      ]
    },
    {
      "cell_type": "code",
      "metadata": {
        "id": "GXSEy5LjcsM6",
        "colab_type": "code",
        "outputId": "46e588dc-9977-4c5a-d0ec-e0f50f8b78a7",
        "colab": {
          "base_uri": "https://localhost:8080/",
          "height": 55
        }
      },
      "source": [
        "top_words = tokenizer.word_counts\n",
        "top_words = sorted(top_words.items(), key=lambda kv: kv[1], reverse=True)[:20]\n",
        "print(top_words)"
      ],
      "execution_count": 0,
      "outputs": [
        {
          "output_type": "stream",
          "text": [
            "[('the', 260), ('is', 139), ('phone', 126), ('i', 116), ('and', 105), ('to', 93), ('it', 92), ('a', 92), ('this', 79), ('with', 54), ('you', 50), ('in', 49), ('that', 48), ('of', 45), ('are', 41), ('have', 40), ('very', 38), ('but', 35), ('not', 33), ('on', 33)]\n"
          ],
          "name": "stdout"
        }
      ]
    },
    {
      "cell_type": "code",
      "metadata": {
        "id": "LUS1wkz2c4OJ",
        "colab_type": "code",
        "colab": {}
      },
      "source": [
        "nk_data_sequences = tokenizer.texts_to_sequences(nk_data)"
      ],
      "execution_count": 0,
      "outputs": []
    },
    {
      "cell_type": "code",
      "metadata": {
        "id": "W2Ze-4TndGZZ",
        "colab_type": "code",
        "colab": {}
      },
      "source": [
        "test_size = int(0.1 * len(nk_data_sequences))\n",
        "nk_data_np = np.vstack((nk_data_sequences, nk_labels)).T\n",
        "np.random.shuffle(nk_data_np)\n",
        "nk_features_train = list(nk_data_np[:, 0][:-test_size])\n",
        "nk_labels_train = list(nk_data_np[:, 1][:-test_size])\n",
        "nk_features_test = list(nk_data_np[:, 0][-test_size:])\n",
        "nk_labels_test = list(nk_data_np[:, 1][-test_size:])"
      ],
      "execution_count": 0,
      "outputs": []
    },
    {
      "cell_type": "code",
      "metadata": {
        "id": "v5aWtgsWdVPA",
        "colab_type": "code",
        "outputId": "85940b58-9f54-4e3e-e8de-f85d1761e142",
        "colab": {
          "base_uri": "https://localhost:8080/",
          "height": 35
        }
      },
      "source": [
        "print(nk_data_np.shape, len(nk_features_train), len(nk_features_test), len(nk_labels_train), len(nk_labels_test))"
      ],
      "execution_count": 0,
      "outputs": [
        {
          "output_type": "stream",
          "text": [
            "(274, 2) 247 27 247 27\n"
          ],
          "name": "stdout"
        }
      ]
    },
    {
      "cell_type": "code",
      "metadata": {
        "id": "V_uv07OTdeZ2",
        "colab_type": "code",
        "outputId": "7f496ded-e600-417f-96c4-33c974b87fa0",
        "colab": {
          "base_uri": "https://localhost:8080/",
          "height": 108
        }
      },
      "source": [
        "max_tokens, nk_features_train_pad, nk_features_test_pad = pad_tokenized_data(nk_features_train, nk_features_test)"
      ],
      "execution_count": 0,
      "outputs": [
        {
          "output_type": "stream",
          "text": [
            "Average number of tokens: 15.824817518248175\n",
            "Max number of tokens: 59\n",
            "Max number of allowed tokens in the network: 35\n",
            "% of dataset to keep: 0.9525547445255474\n",
            "Padded shapes: Train((247, 35)), Test((27, 35))\n"
          ],
          "name": "stdout"
        }
      ]
    },
    {
      "cell_type": "markdown",
      "metadata": {
        "id": "pUic_dndd-NR",
        "colab_type": "text"
      },
      "source": [
        "#### Training"
      ]
    },
    {
      "cell_type": "code",
      "metadata": {
        "id": "FK-aNV6Fdt4W",
        "colab_type": "code",
        "colab": {}
      },
      "source": [
        "model_checkpointer = ModelCheckpoint('./best_rnn_nk.h5',\n",
        "                                monitor='val_loss',\n",
        "                                verbose=1,\n",
        "                                save_best_only=True,\n",
        "                                mode='min')"
      ],
      "execution_count": 0,
      "outputs": []
    },
    {
      "cell_type": "code",
      "metadata": {
        "id": "LI7sl5OdeM66",
        "colab_type": "code",
        "outputId": "75ee84dc-4d41-4a83-ee0b-9a55430c84ef",
        "colab": {
          "base_uri": "https://localhost:8080/",
          "height": 362
        }
      },
      "source": [
        "rnn_model = build_sentiment_rnn(tokenizer, max_tokens)"
      ],
      "execution_count": 0,
      "outputs": [
        {
          "output_type": "stream",
          "text": [
            "Model: \"sequential_6\"\n",
            "_________________________________________________________________\n",
            "Layer (type)                 Output Shape              Param #   \n",
            "=================================================================\n",
            "emb (Embedding)              (None, 35, 8)             8000      \n",
            "_________________________________________________________________\n",
            "gru_18 (GRU)                 (None, 35, 16)            1200      \n",
            "_________________________________________________________________\n",
            "gru_19 (GRU)                 (None, 35, 8)             600       \n",
            "_________________________________________________________________\n",
            "gru_20 (GRU)                 (None, 4)                 156       \n",
            "_________________________________________________________________\n",
            "dense_6 (Dense)              (None, 1)                 5         \n",
            "=================================================================\n",
            "Total params: 9,961\n",
            "Trainable params: 9,961\n",
            "Non-trainable params: 0\n",
            "_________________________________________________________________\n",
            "None\n"
          ],
          "name": "stdout"
        }
      ]
    },
    {
      "cell_type": "code",
      "metadata": {
        "id": "54fJb8ARd8ZK",
        "colab_type": "code",
        "outputId": "901f9dc4-5b78-4931-cfab-0047efdb2a55",
        "colab": {
          "base_uri": "https://localhost:8080/",
          "height": 1000
        }
      },
      "source": [
        "%%time\n",
        "# rnn_model.load_weights('best_rnn_nk.h5')\n",
        "history = rnn_model.fit(nk_features_train_pad, nk_labels_train,\n",
        "          validation_split=0.05, epochs=100, batch_size=32,\n",
        "          callbacks=[model_checkpointer, learning_rate_reduction])"
      ],
      "execution_count": 0,
      "outputs": [
        {
          "output_type": "stream",
          "text": [
            "Train on 234 samples, validate on 13 samples\n",
            "Epoch 1/100\n",
            "224/234 [===========================>..] - ETA: 0s - loss: 0.6806 - acc: 0.6741\n",
            "Epoch 00001: val_loss improved from inf to 0.67366, saving model to ./best_rnn_nk.h5\n",
            "234/234 [==============================] - 9s 38ms/sample - loss: 0.6783 - acc: 0.6880 - val_loss: 0.6737 - val_acc: 0.6154\n",
            "Epoch 2/100\n",
            "224/234 [===========================>..] - ETA: 0s - loss: 0.6493 - acc: 0.7143\n",
            "Epoch 00002: val_loss improved from 0.67366 to 0.66183, saving model to ./best_rnn_nk.h5\n",
            "234/234 [==============================] - 1s 6ms/sample - loss: 0.6475 - acc: 0.7179 - val_loss: 0.6618 - val_acc: 0.6154\n",
            "Epoch 3/100\n",
            "224/234 [===========================>..] - ETA: 0s - loss: 0.6185 - acc: 0.7188\n",
            "Epoch 00003: val_loss improved from 0.66183 to 0.65456, saving model to ./best_rnn_nk.h5\n",
            "234/234 [==============================] - 1s 6ms/sample - loss: 0.6184 - acc: 0.7179 - val_loss: 0.6546 - val_acc: 0.6154\n",
            "Epoch 4/100\n",
            "224/234 [===========================>..] - ETA: 0s - loss: 0.5939 - acc: 0.7188\n",
            "Epoch 00004: val_loss improved from 0.65456 to 0.65320, saving model to ./best_rnn_nk.h5\n",
            "234/234 [==============================] - 1s 6ms/sample - loss: 0.5937 - acc: 0.7179 - val_loss: 0.6532 - val_acc: 0.6154\n",
            "Epoch 5/100\n",
            "224/234 [===========================>..] - ETA: 0s - loss: 0.5650 - acc: 0.7277\n",
            "Epoch 00005: val_loss improved from 0.65320 to 0.65253, saving model to ./best_rnn_nk.h5\n",
            "234/234 [==============================] - 1s 6ms/sample - loss: 0.5738 - acc: 0.7179 - val_loss: 0.6525 - val_acc: 0.6154\n",
            "Epoch 6/100\n",
            "224/234 [===========================>..] - ETA: 0s - loss: 0.5590 - acc: 0.7232\n",
            "Epoch 00006: val_loss improved from 0.65253 to 0.65215, saving model to ./best_rnn_nk.h5\n",
            "234/234 [==============================] - 1s 6ms/sample - loss: 0.5624 - acc: 0.7179 - val_loss: 0.6522 - val_acc: 0.6154\n",
            "Epoch 7/100\n",
            "224/234 [===========================>..] - ETA: 0s - loss: 0.5511 - acc: 0.7188\n",
            "Epoch 00007: val_loss improved from 0.65215 to 0.64917, saving model to ./best_rnn_nk.h5\n",
            "234/234 [==============================] - 1s 6ms/sample - loss: 0.5503 - acc: 0.7179 - val_loss: 0.6492 - val_acc: 0.6154\n",
            "Epoch 8/100\n",
            "224/234 [===========================>..] - ETA: 0s - loss: 0.5349 - acc: 0.7143\n",
            "Epoch 00008: val_loss improved from 0.64917 to 0.64561, saving model to ./best_rnn_nk.h5\n",
            "234/234 [==============================] - 1s 6ms/sample - loss: 0.5326 - acc: 0.7179 - val_loss: 0.6456 - val_acc: 0.6154\n",
            "Epoch 9/100\n",
            "224/234 [===========================>..] - ETA: 0s - loss: 0.5108 - acc: 0.7188\n",
            "Epoch 00009: val_loss improved from 0.64561 to 0.63148, saving model to ./best_rnn_nk.h5\n",
            "234/234 [==============================] - 1s 6ms/sample - loss: 0.5119 - acc: 0.7179 - val_loss: 0.6315 - val_acc: 0.6154\n",
            "Epoch 10/100\n",
            "224/234 [===========================>..] - ETA: 0s - loss: 0.4797 - acc: 0.7321\n",
            "Epoch 00010: val_loss improved from 0.63148 to 0.61518, saving model to ./best_rnn_nk.h5\n",
            "234/234 [==============================] - 1s 6ms/sample - loss: 0.4839 - acc: 0.7265 - val_loss: 0.6152 - val_acc: 0.6154\n",
            "Epoch 11/100\n",
            "224/234 [===========================>..] - ETA: 0s - loss: 0.4547 - acc: 0.7589\n",
            "Epoch 00011: val_loss improved from 0.61518 to 0.60775, saving model to ./best_rnn_nk.h5\n",
            "234/234 [==============================] - 1s 6ms/sample - loss: 0.4496 - acc: 0.7650 - val_loss: 0.6078 - val_acc: 0.6154\n",
            "Epoch 12/100\n",
            "224/234 [===========================>..] - ETA: 0s - loss: 0.4082 - acc: 0.8259\n",
            "Epoch 00012: val_loss improved from 0.60775 to 0.57976, saving model to ./best_rnn_nk.h5\n",
            "234/234 [==============================] - 1s 6ms/sample - loss: 0.4063 - acc: 0.8291 - val_loss: 0.5798 - val_acc: 0.6923\n",
            "Epoch 13/100\n",
            "224/234 [===========================>..] - ETA: 0s - loss: 0.3564 - acc: 0.8661\n",
            "Epoch 00013: val_loss improved from 0.57976 to 0.56227, saving model to ./best_rnn_nk.h5\n",
            "234/234 [==============================] - 1s 6ms/sample - loss: 0.3596 - acc: 0.8675 - val_loss: 0.5623 - val_acc: 0.6923\n",
            "Epoch 14/100\n",
            "224/234 [===========================>..] - ETA: 0s - loss: 0.3206 - acc: 0.8884\n",
            "Epoch 00014: val_loss improved from 0.56227 to 0.55548, saving model to ./best_rnn_nk.h5\n",
            "234/234 [==============================] - 1s 6ms/sample - loss: 0.3178 - acc: 0.8932 - val_loss: 0.5555 - val_acc: 0.6923\n",
            "Epoch 15/100\n",
            "224/234 [===========================>..] - ETA: 0s - loss: 0.2774 - acc: 0.9062\n",
            "Epoch 00015: val_loss improved from 0.55548 to 0.55509, saving model to ./best_rnn_nk.h5\n",
            "234/234 [==============================] - 1s 6ms/sample - loss: 0.2775 - acc: 0.9060 - val_loss: 0.5551 - val_acc: 0.6923\n",
            "Epoch 16/100\n",
            "224/234 [===========================>..] - ETA: 0s - loss: 0.2411 - acc: 0.9286\n",
            "Epoch 00016: val_loss did not improve from 0.55509\n",
            "234/234 [==============================] - 1s 6ms/sample - loss: 0.2433 - acc: 0.9231 - val_loss: 0.5916 - val_acc: 0.6923\n",
            "Epoch 17/100\n",
            "224/234 [===========================>..] - ETA: 0s - loss: 0.2188 - acc: 0.9286\n",
            "Epoch 00017: val_loss did not improve from 0.55509\n",
            "234/234 [==============================] - 1s 6ms/sample - loss: 0.2155 - acc: 0.9316 - val_loss: 0.6931 - val_acc: 0.6923\n",
            "Epoch 18/100\n",
            "224/234 [===========================>..] - ETA: 0s - loss: 0.2012 - acc: 0.9330\n",
            "Epoch 00018: val_loss did not improve from 0.55509\n",
            "\n",
            "Epoch 00018: ReduceLROnPlateau reducing learning rate to 0.0005000000237487257.\n",
            "234/234 [==============================] - 2s 11ms/sample - loss: 0.1966 - acc: 0.9359 - val_loss: 0.6783 - val_acc: 0.6923\n",
            "Epoch 19/100\n",
            "224/234 [===========================>..] - ETA: 0s - loss: 0.1755 - acc: 0.9554\n",
            "Epoch 00019: val_loss did not improve from 0.55509\n",
            "234/234 [==============================] - 1s 6ms/sample - loss: 0.1710 - acc: 0.9573 - val_loss: 0.7183 - val_acc: 0.6923\n",
            "Epoch 20/100\n",
            "224/234 [===========================>..] - ETA: 0s - loss: 0.1575 - acc: 0.9732\n",
            "Epoch 00020: val_loss did not improve from 0.55509\n",
            "234/234 [==============================] - 1s 6ms/sample - loss: 0.1634 - acc: 0.9658 - val_loss: 0.7535 - val_acc: 0.6923\n",
            "Epoch 21/100\n",
            "224/234 [===========================>..] - ETA: 0s - loss: 0.1547 - acc: 0.9554\n",
            "Epoch 00021: val_loss did not improve from 0.55509\n",
            "\n",
            "Epoch 00021: ReduceLROnPlateau reducing learning rate to 0.0002500000118743628.\n",
            "234/234 [==============================] - 1s 6ms/sample - loss: 0.1551 - acc: 0.9573 - val_loss: 0.7583 - val_acc: 0.6923\n",
            "Epoch 22/100\n",
            "224/234 [===========================>..] - ETA: 0s - loss: 0.1447 - acc: 0.9688\n",
            "Epoch 00022: val_loss did not improve from 0.55509\n",
            "234/234 [==============================] - 1s 6ms/sample - loss: 0.1474 - acc: 0.9658 - val_loss: 0.7790 - val_acc: 0.6923\n",
            "Epoch 23/100\n",
            "224/234 [===========================>..] - ETA: 0s - loss: 0.1332 - acc: 0.9732\n",
            "Epoch 00023: val_loss did not improve from 0.55509\n",
            "234/234 [==============================] - 1s 6ms/sample - loss: 0.1448 - acc: 0.9658 - val_loss: 0.7847 - val_acc: 0.6923\n",
            "Epoch 24/100\n",
            "224/234 [===========================>..] - ETA: 0s - loss: 0.1386 - acc: 0.9688\n",
            "Epoch 00024: val_loss did not improve from 0.55509\n",
            "\n",
            "Epoch 00024: ReduceLROnPlateau reducing learning rate to 0.0001250000059371814.\n",
            "234/234 [==============================] - 1s 6ms/sample - loss: 0.1405 - acc: 0.9658 - val_loss: 0.7951 - val_acc: 0.6923\n",
            "Epoch 25/100\n",
            "224/234 [===========================>..] - ETA: 0s - loss: 0.1378 - acc: 0.9643\n",
            "Epoch 00025: val_loss did not improve from 0.55509\n",
            "234/234 [==============================] - 1s 6ms/sample - loss: 0.1374 - acc: 0.9658 - val_loss: 0.8065 - val_acc: 0.6923\n",
            "Epoch 26/100\n",
            "224/234 [===========================>..] - ETA: 0s - loss: 0.1349 - acc: 0.9643\n",
            "Epoch 00026: val_loss did not improve from 0.55509\n",
            "234/234 [==============================] - 1s 6ms/sample - loss: 0.1360 - acc: 0.9658 - val_loss: 0.8142 - val_acc: 0.6923\n",
            "Epoch 27/100\n",
            "224/234 [===========================>..] - ETA: 0s - loss: 0.1318 - acc: 0.9688\n",
            "Epoch 00027: val_loss did not improve from 0.55509\n",
            "\n",
            "Epoch 00027: ReduceLROnPlateau reducing learning rate to 6.25000029685907e-05.\n",
            "234/234 [==============================] - 1s 6ms/sample - loss: 0.1342 - acc: 0.9658 - val_loss: 0.8276 - val_acc: 0.6923\n",
            "Epoch 28/100\n",
            "224/234 [===========================>..] - ETA: 0s - loss: 0.1312 - acc: 0.9643\n",
            "Epoch 00028: val_loss did not improve from 0.55509\n",
            "234/234 [==============================] - 1s 6ms/sample - loss: 0.1327 - acc: 0.9658 - val_loss: 0.8307 - val_acc: 0.6923\n",
            "Epoch 29/100\n",
            "224/234 [===========================>..] - ETA: 0s - loss: 0.1346 - acc: 0.9643\n",
            "Epoch 00029: val_loss did not improve from 0.55509\n",
            "234/234 [==============================] - 1s 6ms/sample - loss: 0.1317 - acc: 0.9658 - val_loss: 0.8353 - val_acc: 0.6923\n",
            "Epoch 30/100\n",
            "224/234 [===========================>..] - ETA: 0s - loss: 0.1344 - acc: 0.9643\n",
            "Epoch 00030: val_loss did not improve from 0.55509\n",
            "\n",
            "Epoch 00030: ReduceLROnPlateau reducing learning rate to 3.125000148429535e-05.\n",
            "234/234 [==============================] - 1s 6ms/sample - loss: 0.1311 - acc: 0.9658 - val_loss: 0.8398 - val_acc: 0.6923\n",
            "Epoch 31/100\n",
            "224/234 [===========================>..] - ETA: 0s - loss: 0.1297 - acc: 0.9688\n",
            "Epoch 00031: val_loss did not improve from 0.55509\n",
            "234/234 [==============================] - 1s 6ms/sample - loss: 0.1303 - acc: 0.9658 - val_loss: 0.8428 - val_acc: 0.6923\n",
            "Epoch 32/100\n",
            "224/234 [===========================>..] - ETA: 0s - loss: 0.1325 - acc: 0.9643\n",
            "Epoch 00032: val_loss did not improve from 0.55509\n",
            "234/234 [==============================] - 1s 6ms/sample - loss: 0.1298 - acc: 0.9658 - val_loss: 0.8447 - val_acc: 0.6923\n",
            "Epoch 33/100\n",
            "224/234 [===========================>..] - ETA: 0s - loss: 0.1321 - acc: 0.9643\n",
            "Epoch 00033: val_loss did not improve from 0.55509\n",
            "\n",
            "Epoch 00033: ReduceLROnPlateau reducing learning rate to 1.5625000742147677e-05.\n",
            "234/234 [==============================] - 1s 6ms/sample - loss: 0.1294 - acc: 0.9658 - val_loss: 0.8467 - val_acc: 0.6923\n",
            "Epoch 34/100\n",
            "224/234 [===========================>..] - ETA: 0s - loss: 0.1259 - acc: 0.9688\n",
            "Epoch 00034: val_loss did not improve from 0.55509\n",
            "234/234 [==============================] - 1s 6ms/sample - loss: 0.1290 - acc: 0.9658 - val_loss: 0.8478 - val_acc: 0.6923\n",
            "Epoch 35/100\n",
            "224/234 [===========================>..] - ETA: 0s - loss: 0.1321 - acc: 0.9643\n",
            "Epoch 00035: val_loss did not improve from 0.55509\n",
            "234/234 [==============================] - 1s 6ms/sample - loss: 0.1288 - acc: 0.9658 - val_loss: 0.8486 - val_acc: 0.6923\n",
            "Epoch 36/100\n",
            "224/234 [===========================>..] - ETA: 0s - loss: 0.1303 - acc: 0.9643\n",
            "Epoch 00036: val_loss did not improve from 0.55509\n",
            "\n",
            "Epoch 00036: ReduceLROnPlateau reducing learning rate to 1e-05.\n",
            "234/234 [==============================] - 1s 6ms/sample - loss: 0.1286 - acc: 0.9658 - val_loss: 0.8497 - val_acc: 0.6923\n",
            "Epoch 37/100\n",
            "224/234 [===========================>..] - ETA: 0s - loss: 0.1255 - acc: 0.9688\n",
            "Epoch 00037: val_loss did not improve from 0.55509\n",
            "234/234 [==============================] - 1s 6ms/sample - loss: 0.1284 - acc: 0.9658 - val_loss: 0.8502 - val_acc: 0.6923\n",
            "Epoch 38/100\n",
            "224/234 [===========================>..] - ETA: 0s - loss: 0.1302 - acc: 0.9643\n",
            "Epoch 00038: val_loss did not improve from 0.55509\n",
            "234/234 [==============================] - 1s 6ms/sample - loss: 0.1282 - acc: 0.9658 - val_loss: 0.8508 - val_acc: 0.6923\n",
            "Epoch 39/100\n",
            "224/234 [===========================>..] - ETA: 0s - loss: 0.1250 - acc: 0.9688\n",
            "Epoch 00039: val_loss did not improve from 0.55509\n",
            "234/234 [==============================] - 1s 6ms/sample - loss: 0.1281 - acc: 0.9658 - val_loss: 0.8517 - val_acc: 0.6923\n",
            "Epoch 40/100\n",
            "224/234 [===========================>..] - ETA: 0s - loss: 0.1291 - acc: 0.9643\n",
            "Epoch 00040: val_loss did not improve from 0.55509\n",
            "234/234 [==============================] - 1s 6ms/sample - loss: 0.1280 - acc: 0.9658 - val_loss: 0.8522 - val_acc: 0.6923\n",
            "Epoch 41/100\n",
            "224/234 [===========================>..] - ETA: 0s - loss: 0.1229 - acc: 0.9688\n",
            "Epoch 00041: val_loss did not improve from 0.55509\n",
            "234/234 [==============================] - 1s 6ms/sample - loss: 0.1279 - acc: 0.9658 - val_loss: 0.8527 - val_acc: 0.6923\n",
            "Epoch 42/100\n",
            "224/234 [===========================>..] - ETA: 0s - loss: 0.1290 - acc: 0.9643\n",
            "Epoch 00042: val_loss did not improve from 0.55509\n",
            "234/234 [==============================] - 1s 6ms/sample - loss: 0.1277 - acc: 0.9658 - val_loss: 0.8533 - val_acc: 0.6923\n",
            "Epoch 43/100\n",
            "224/234 [===========================>..] - ETA: 0s - loss: 0.1298 - acc: 0.9643\n",
            "Epoch 00043: val_loss did not improve from 0.55509\n",
            "234/234 [==============================] - 1s 6ms/sample - loss: 0.1276 - acc: 0.9658 - val_loss: 0.8540 - val_acc: 0.6923\n",
            "Epoch 44/100\n",
            "224/234 [===========================>..] - ETA: 0s - loss: 0.1293 - acc: 0.9643\n",
            "Epoch 00044: val_loss did not improve from 0.55509\n",
            "234/234 [==============================] - 1s 6ms/sample - loss: 0.1275 - acc: 0.9658 - val_loss: 0.8546 - val_acc: 0.6923\n",
            "Epoch 45/100\n",
            "224/234 [===========================>..] - ETA: 0s - loss: 0.1290 - acc: 0.9643\n",
            "Epoch 00045: val_loss did not improve from 0.55509\n",
            "234/234 [==============================] - 1s 6ms/sample - loss: 0.1274 - acc: 0.9658 - val_loss: 0.8552 - val_acc: 0.6923\n",
            "Epoch 46/100\n",
            "224/234 [===========================>..] - ETA: 0s - loss: 0.1275 - acc: 0.9643\n",
            "Epoch 00046: val_loss did not improve from 0.55509\n",
            "234/234 [==============================] - 1s 6ms/sample - loss: 0.1273 - acc: 0.9658 - val_loss: 0.8558 - val_acc: 0.6923\n",
            "Epoch 47/100\n",
            "224/234 [===========================>..] - ETA: 0s - loss: 0.1292 - acc: 0.9643\n",
            "Epoch 00047: val_loss did not improve from 0.55509\n",
            "234/234 [==============================] - 1s 6ms/sample - loss: 0.1271 - acc: 0.9658 - val_loss: 0.8564 - val_acc: 0.6923\n",
            "Epoch 48/100\n",
            "224/234 [===========================>..] - ETA: 0s - loss: 0.1160 - acc: 0.9732\n",
            "Epoch 00048: val_loss did not improve from 0.55509\n",
            "234/234 [==============================] - 1s 6ms/sample - loss: 0.1270 - acc: 0.9658 - val_loss: 0.8568 - val_acc: 0.6923\n",
            "Epoch 49/100\n",
            "224/234 [===========================>..] - ETA: 0s - loss: 0.1290 - acc: 0.9643\n",
            "Epoch 00049: val_loss did not improve from 0.55509\n",
            "234/234 [==============================] - 1s 6ms/sample - loss: 0.1269 - acc: 0.9658 - val_loss: 0.8572 - val_acc: 0.6923\n",
            "Epoch 50/100\n",
            "224/234 [===========================>..] - ETA: 0s - loss: 0.1195 - acc: 0.9688\n",
            "Epoch 00050: val_loss did not improve from 0.55509\n",
            "234/234 [==============================] - 1s 6ms/sample - loss: 0.1268 - acc: 0.9658 - val_loss: 0.8576 - val_acc: 0.6923\n",
            "Epoch 51/100\n",
            "224/234 [===========================>..] - ETA: 0s - loss: 0.1285 - acc: 0.9688\n",
            "Epoch 00051: val_loss did not improve from 0.55509\n",
            "234/234 [==============================] - 1s 6ms/sample - loss: 0.1266 - acc: 0.9701 - val_loss: 0.8582 - val_acc: 0.6923\n",
            "Epoch 52/100\n",
            "224/234 [===========================>..] - ETA: 0s - loss: 0.1292 - acc: 0.9688\n",
            "Epoch 00052: val_loss did not improve from 0.55509\n",
            "234/234 [==============================] - 1s 6ms/sample - loss: 0.1265 - acc: 0.9701 - val_loss: 0.8588 - val_acc: 0.6923\n",
            "Epoch 53/100\n",
            "224/234 [===========================>..] - ETA: 0s - loss: 0.1232 - acc: 0.9732\n",
            "Epoch 00053: val_loss did not improve from 0.55509\n",
            "234/234 [==============================] - 1s 6ms/sample - loss: 0.1264 - acc: 0.9701 - val_loss: 0.8596 - val_acc: 0.6923\n",
            "Epoch 54/100\n",
            "224/234 [===========================>..] - ETA: 0s - loss: 0.1296 - acc: 0.9688\n",
            "Epoch 00054: val_loss did not improve from 0.55509\n",
            "234/234 [==============================] - 1s 6ms/sample - loss: 0.1263 - acc: 0.9701 - val_loss: 0.8603 - val_acc: 0.6923\n",
            "Epoch 55/100\n",
            "224/234 [===========================>..] - ETA: 0s - loss: 0.1265 - acc: 0.9688\n",
            "Epoch 00055: val_loss did not improve from 0.55509\n",
            "234/234 [==============================] - 1s 6ms/sample - loss: 0.1262 - acc: 0.9701 - val_loss: 0.8608 - val_acc: 0.6923\n",
            "Epoch 56/100\n",
            "224/234 [===========================>..] - ETA: 0s - loss: 0.1280 - acc: 0.9688\n",
            "Epoch 00056: val_loss did not improve from 0.55509\n",
            "234/234 [==============================] - 1s 6ms/sample - loss: 0.1261 - acc: 0.9701 - val_loss: 0.8615 - val_acc: 0.6923\n",
            "Epoch 57/100\n",
            "224/234 [===========================>..] - ETA: 0s - loss: 0.1248 - acc: 0.9732\n",
            "Epoch 00057: val_loss did not improve from 0.55509\n",
            "234/234 [==============================] - 1s 6ms/sample - loss: 0.1260 - acc: 0.9701 - val_loss: 0.8624 - val_acc: 0.6923\n",
            "Epoch 58/100\n",
            "224/234 [===========================>..] - ETA: 0s - loss: 0.1263 - acc: 0.9688\n",
            "Epoch 00058: val_loss did not improve from 0.55509\n",
            "234/234 [==============================] - 1s 6ms/sample - loss: 0.1258 - acc: 0.9701 - val_loss: 0.8633 - val_acc: 0.6923\n",
            "Epoch 59/100\n",
            "224/234 [===========================>..] - ETA: 0s - loss: 0.1180 - acc: 0.9732\n",
            "Epoch 00059: val_loss did not improve from 0.55509\n",
            "234/234 [==============================] - 1s 6ms/sample - loss: 0.1257 - acc: 0.9701 - val_loss: 0.8636 - val_acc: 0.6923\n",
            "Epoch 60/100\n",
            "224/234 [===========================>..] - ETA: 0s - loss: 0.1258 - acc: 0.9688\n",
            "Epoch 00060: val_loss did not improve from 0.55509\n",
            "234/234 [==============================] - 1s 6ms/sample - loss: 0.1256 - acc: 0.9701 - val_loss: 0.8641 - val_acc: 0.6923\n",
            "Epoch 61/100\n",
            "224/234 [===========================>..] - ETA: 0s - loss: 0.1280 - acc: 0.9688\n",
            "Epoch 00061: val_loss did not improve from 0.55509\n",
            "234/234 [==============================] - 1s 6ms/sample - loss: 0.1255 - acc: 0.9701 - val_loss: 0.8649 - val_acc: 0.6923\n",
            "Epoch 62/100\n",
            "224/234 [===========================>..] - ETA: 0s - loss: 0.1208 - acc: 0.9732\n",
            "Epoch 00062: val_loss did not improve from 0.55509\n",
            "234/234 [==============================] - 1s 6ms/sample - loss: 0.1254 - acc: 0.9701 - val_loss: 0.8654 - val_acc: 0.6923\n",
            "Epoch 63/100\n",
            "224/234 [===========================>..] - ETA: 0s - loss: 0.1213 - acc: 0.9732\n",
            "Epoch 00063: val_loss did not improve from 0.55509\n",
            "234/234 [==============================] - 1s 6ms/sample - loss: 0.1252 - acc: 0.9701 - val_loss: 0.8662 - val_acc: 0.6923\n",
            "Epoch 64/100\n",
            "224/234 [===========================>..] - ETA: 0s - loss: 0.1276 - acc: 0.9688\n",
            "Epoch 00064: val_loss did not improve from 0.55509\n",
            "234/234 [==============================] - 1s 6ms/sample - loss: 0.1251 - acc: 0.9701 - val_loss: 0.8669 - val_acc: 0.6923\n",
            "Epoch 65/100\n",
            "224/234 [===========================>..] - ETA: 0s - loss: 0.1275 - acc: 0.9688\n",
            "Epoch 00065: val_loss did not improve from 0.55509\n",
            "234/234 [==============================] - 1s 6ms/sample - loss: 0.1251 - acc: 0.9701 - val_loss: 0.8676 - val_acc: 0.6923\n",
            "Epoch 66/100\n",
            "224/234 [===========================>..] - ETA: 0s - loss: 0.1213 - acc: 0.9732\n",
            "Epoch 00066: val_loss did not improve from 0.55509\n",
            "234/234 [==============================] - 1s 6ms/sample - loss: 0.1250 - acc: 0.9701 - val_loss: 0.8683 - val_acc: 0.6923\n",
            "Epoch 67/100\n",
            "224/234 [===========================>..] - ETA: 0s - loss: 0.1250 - acc: 0.9688\n",
            "Epoch 00067: val_loss did not improve from 0.55509\n",
            "234/234 [==============================] - 1s 6ms/sample - loss: 0.1248 - acc: 0.9701 - val_loss: 0.8687 - val_acc: 0.6923\n",
            "Epoch 68/100\n",
            "224/234 [===========================>..] - ETA: 0s - loss: 0.1265 - acc: 0.9688\n",
            "Epoch 00068: val_loss did not improve from 0.55509\n",
            "234/234 [==============================] - 1s 6ms/sample - loss: 0.1247 - acc: 0.9701 - val_loss: 0.8694 - val_acc: 0.6923\n",
            "Epoch 69/100\n",
            "224/234 [===========================>..] - ETA: 0s - loss: 0.1246 - acc: 0.9688\n",
            "Epoch 00069: val_loss did not improve from 0.55509\n",
            "234/234 [==============================] - 1s 6ms/sample - loss: 0.1246 - acc: 0.9701 - val_loss: 0.8700 - val_acc: 0.6923\n",
            "Epoch 70/100\n",
            "224/234 [===========================>..] - ETA: 0s - loss: 0.1236 - acc: 0.9732\n",
            "Epoch 00070: val_loss did not improve from 0.55509\n",
            "234/234 [==============================] - 1s 6ms/sample - loss: 0.1245 - acc: 0.9701 - val_loss: 0.8709 - val_acc: 0.6923\n",
            "Epoch 71/100\n",
            "224/234 [===========================>..] - ETA: 0s - loss: 0.1271 - acc: 0.9688\n",
            "Epoch 00071: val_loss did not improve from 0.55509\n",
            "234/234 [==============================] - 1s 6ms/sample - loss: 0.1244 - acc: 0.9701 - val_loss: 0.8715 - val_acc: 0.6923\n",
            "Epoch 72/100\n",
            "224/234 [===========================>..] - ETA: 0s - loss: 0.1245 - acc: 0.9688\n",
            "Epoch 00072: val_loss did not improve from 0.55509\n",
            "234/234 [==============================] - 1s 6ms/sample - loss: 0.1242 - acc: 0.9701 - val_loss: 0.8720 - val_acc: 0.6923\n",
            "Epoch 73/100\n",
            "224/234 [===========================>..] - ETA: 0s - loss: 0.1131 - acc: 0.9777\n",
            "Epoch 00073: val_loss did not improve from 0.55509\n",
            "234/234 [==============================] - 1s 6ms/sample - loss: 0.1241 - acc: 0.9701 - val_loss: 0.8724 - val_acc: 0.6923\n",
            "Epoch 74/100\n",
            "224/234 [===========================>..] - ETA: 0s - loss: 0.1253 - acc: 0.9688\n",
            "Epoch 00074: val_loss did not improve from 0.55509\n",
            "234/234 [==============================] - 1s 6ms/sample - loss: 0.1240 - acc: 0.9701 - val_loss: 0.8729 - val_acc: 0.6923\n",
            "Epoch 75/100\n",
            "224/234 [===========================>..] - ETA: 0s - loss: 0.1252 - acc: 0.9688\n",
            "Epoch 00075: val_loss did not improve from 0.55509\n",
            "234/234 [==============================] - 1s 6ms/sample - loss: 0.1239 - acc: 0.9701 - val_loss: 0.8735 - val_acc: 0.6923\n",
            "Epoch 76/100\n",
            "224/234 [===========================>..] - ETA: 0s - loss: 0.1241 - acc: 0.9732\n",
            "Epoch 00076: val_loss did not improve from 0.55509\n",
            "234/234 [==============================] - 1s 6ms/sample - loss: 0.1238 - acc: 0.9701 - val_loss: 0.8744 - val_acc: 0.6923\n",
            "Epoch 77/100\n",
            "224/234 [===========================>..] - ETA: 0s - loss: 0.1214 - acc: 0.9688\n",
            "Epoch 00077: val_loss did not improve from 0.55509\n",
            "234/234 [==============================] - 1s 6ms/sample - loss: 0.1237 - acc: 0.9701 - val_loss: 0.8746 - val_acc: 0.6923\n",
            "Epoch 78/100\n",
            "224/234 [===========================>..] - ETA: 0s - loss: 0.1260 - acc: 0.9688\n",
            "Epoch 00078: val_loss did not improve from 0.55509\n",
            "234/234 [==============================] - 1s 6ms/sample - loss: 0.1236 - acc: 0.9701 - val_loss: 0.8751 - val_acc: 0.6923\n",
            "Epoch 79/100\n",
            "224/234 [===========================>..] - ETA: 0s - loss: 0.1261 - acc: 0.9688\n",
            "Epoch 00079: val_loss did not improve from 0.55509\n",
            "234/234 [==============================] - 1s 6ms/sample - loss: 0.1235 - acc: 0.9701 - val_loss: 0.8758 - val_acc: 0.6923\n",
            "Epoch 80/100\n",
            "224/234 [===========================>..] - ETA: 0s - loss: 0.1247 - acc: 0.9688\n",
            "Epoch 00080: val_loss did not improve from 0.55509\n",
            "234/234 [==============================] - 1s 6ms/sample - loss: 0.1234 - acc: 0.9701 - val_loss: 0.8766 - val_acc: 0.6923\n",
            "Epoch 81/100\n",
            "224/234 [===========================>..] - ETA: 0s - loss: 0.1260 - acc: 0.9688\n",
            "Epoch 00081: val_loss did not improve from 0.55509\n",
            "234/234 [==============================] - 1s 6ms/sample - loss: 0.1232 - acc: 0.9701 - val_loss: 0.8772 - val_acc: 0.6923\n",
            "Epoch 82/100\n",
            "224/234 [===========================>..] - ETA: 0s - loss: 0.1237 - acc: 0.9688\n",
            "Epoch 00082: val_loss did not improve from 0.55509\n",
            "234/234 [==============================] - 1s 6ms/sample - loss: 0.1231 - acc: 0.9701 - val_loss: 0.8777 - val_acc: 0.6923\n",
            "Epoch 83/100\n",
            "224/234 [===========================>..] - ETA: 0s - loss: 0.1253 - acc: 0.9688\n",
            "Epoch 00083: val_loss did not improve from 0.55509\n",
            "234/234 [==============================] - 1s 6ms/sample - loss: 0.1230 - acc: 0.9701 - val_loss: 0.8784 - val_acc: 0.6923\n",
            "Epoch 84/100\n",
            "224/234 [===========================>..] - ETA: 0s - loss: 0.1247 - acc: 0.9688\n",
            "Epoch 00084: val_loss did not improve from 0.55509\n",
            "234/234 [==============================] - 1s 6ms/sample - loss: 0.1229 - acc: 0.9701 - val_loss: 0.8790 - val_acc: 0.6923\n",
            "Epoch 85/100\n",
            "224/234 [===========================>..] - ETA: 0s - loss: 0.1210 - acc: 0.9688\n",
            "Epoch 00085: val_loss did not improve from 0.55509\n",
            "234/234 [==============================] - 1s 6ms/sample - loss: 0.1228 - acc: 0.9701 - val_loss: 0.8794 - val_acc: 0.6923\n",
            "Epoch 86/100\n",
            "224/234 [===========================>..] - ETA: 0s - loss: 0.1184 - acc: 0.9732\n",
            "Epoch 00086: val_loss did not improve from 0.55509\n",
            "234/234 [==============================] - 1s 6ms/sample - loss: 0.1227 - acc: 0.9701 - val_loss: 0.8798 - val_acc: 0.6923\n",
            "Epoch 87/100\n",
            "224/234 [===========================>..] - ETA: 0s - loss: 0.1244 - acc: 0.9688\n",
            "Epoch 00087: val_loss did not improve from 0.55509\n",
            "234/234 [==============================] - 1s 6ms/sample - loss: 0.1226 - acc: 0.9701 - val_loss: 0.8803 - val_acc: 0.6923\n",
            "Epoch 88/100\n",
            "224/234 [===========================>..] - ETA: 0s - loss: 0.1191 - acc: 0.9732\n",
            "Epoch 00088: val_loss did not improve from 0.55509\n",
            "234/234 [==============================] - 1s 6ms/sample - loss: 0.1224 - acc: 0.9701 - val_loss: 0.8810 - val_acc: 0.6923\n",
            "Epoch 89/100\n",
            "224/234 [===========================>..] - ETA: 0s - loss: 0.1203 - acc: 0.9732\n",
            "Epoch 00089: val_loss did not improve from 0.55509\n",
            "234/234 [==============================] - 1s 5ms/sample - loss: 0.1223 - acc: 0.9701 - val_loss: 0.8815 - val_acc: 0.6923\n",
            "Epoch 90/100\n",
            "224/234 [===========================>..] - ETA: 0s - loss: 0.1163 - acc: 0.9732\n",
            "Epoch 00090: val_loss did not improve from 0.55509\n",
            "234/234 [==============================] - 1s 6ms/sample - loss: 0.1223 - acc: 0.9701 - val_loss: 0.8818 - val_acc: 0.6923\n",
            "Epoch 91/100\n",
            "224/234 [===========================>..] - ETA: 0s - loss: 0.1249 - acc: 0.9688\n",
            "Epoch 00091: val_loss did not improve from 0.55509\n",
            "234/234 [==============================] - 1s 6ms/sample - loss: 0.1221 - acc: 0.9701 - val_loss: 0.8823 - val_acc: 0.6923\n",
            "Epoch 92/100\n",
            "224/234 [===========================>..] - ETA: 0s - loss: 0.1232 - acc: 0.9688\n",
            "Epoch 00092: val_loss did not improve from 0.55509\n",
            "234/234 [==============================] - 1s 6ms/sample - loss: 0.1220 - acc: 0.9701 - val_loss: 0.8831 - val_acc: 0.6923\n",
            "Epoch 93/100\n",
            "224/234 [===========================>..] - ETA: 0s - loss: 0.1219 - acc: 0.9688\n",
            "Epoch 00093: val_loss did not improve from 0.55509\n",
            "234/234 [==============================] - 1s 6ms/sample - loss: 0.1219 - acc: 0.9701 - val_loss: 0.8835 - val_acc: 0.6923\n",
            "Epoch 94/100\n",
            "224/234 [===========================>..] - ETA: 0s - loss: 0.1242 - acc: 0.9688\n",
            "Epoch 00094: val_loss did not improve from 0.55509\n",
            "234/234 [==============================] - 1s 6ms/sample - loss: 0.1218 - acc: 0.9701 - val_loss: 0.8840 - val_acc: 0.6923\n",
            "Epoch 95/100\n",
            "224/234 [===========================>..] - ETA: 0s - loss: 0.1215 - acc: 0.9688\n",
            "Epoch 00095: val_loss did not improve from 0.55509\n",
            "234/234 [==============================] - 1s 6ms/sample - loss: 0.1217 - acc: 0.9701 - val_loss: 0.8845 - val_acc: 0.6923\n",
            "Epoch 96/100\n",
            "224/234 [===========================>..] - ETA: 0s - loss: 0.1225 - acc: 0.9688\n",
            "Epoch 00096: val_loss did not improve from 0.55509\n",
            "234/234 [==============================] - 1s 6ms/sample - loss: 0.1216 - acc: 0.9701 - val_loss: 0.8851 - val_acc: 0.6923\n",
            "Epoch 97/100\n",
            "224/234 [===========================>..] - ETA: 0s - loss: 0.1185 - acc: 0.9732\n",
            "Epoch 00097: val_loss did not improve from 0.55509\n",
            "234/234 [==============================] - 1s 6ms/sample - loss: 0.1215 - acc: 0.9701 - val_loss: 0.8859 - val_acc: 0.6923\n",
            "Epoch 98/100\n",
            "224/234 [===========================>..] - ETA: 0s - loss: 0.1239 - acc: 0.9688\n",
            "Epoch 00098: val_loss did not improve from 0.55509\n",
            "234/234 [==============================] - 1s 6ms/sample - loss: 0.1214 - acc: 0.9701 - val_loss: 0.8865 - val_acc: 0.6923\n",
            "Epoch 99/100\n",
            "224/234 [===========================>..] - ETA: 0s - loss: 0.1138 - acc: 0.9777\n",
            "Epoch 00099: val_loss did not improve from 0.55509\n",
            "234/234 [==============================] - 1s 6ms/sample - loss: 0.1213 - acc: 0.9701 - val_loss: 0.8871 - val_acc: 0.6923\n",
            "Epoch 100/100\n",
            "224/234 [===========================>..] - ETA: 0s - loss: 0.1238 - acc: 0.9688\n",
            "Epoch 00100: val_loss did not improve from 0.55509\n",
            "234/234 [==============================] - 1s 6ms/sample - loss: 0.1212 - acc: 0.9701 - val_loss: 0.8875 - val_acc: 0.6923\n",
            "CPU times: user 3min 5s, sys: 7.67 s, total: 3min 12s\n",
            "Wall time: 2min 27s\n"
          ],
          "name": "stdout"
        }
      ]
    },
    {
      "cell_type": "code",
      "metadata": {
        "id": "9dERTbY_lMsl",
        "colab_type": "code",
        "colab": {}
      },
      "source": [
        "save_hist('./best_rnn_nk.json', str(history.history))\n",
        "#history = load_hist('./best_rnn_nk.json')"
      ],
      "execution_count": 0,
      "outputs": []
    },
    {
      "cell_type": "markdown",
      "metadata": {
        "id": "QQnWwbI8ex4P",
        "colab_type": "text"
      },
      "source": [
        "#### Evaluation"
      ]
    },
    {
      "cell_type": "code",
      "metadata": {
        "id": "wrjHMypqeF-_",
        "colab_type": "code",
        "outputId": "bf4a71a0-a969-4b82-e1a4-4dcc7e3fb24e",
        "colab": {
          "base_uri": "https://localhost:8080/",
          "height": 390
        }
      },
      "source": [
        "plot_learning_curves(history)"
      ],
      "execution_count": 0,
      "outputs": [
        {
          "output_type": "display_data",
          "data": {
            "image/png": "[encoded data removed]",
            "text/plain": [
              "<Figure size 1080x432 with 2 Axes>"
            ]
          },
          "metadata": {
            "tags": []
          }
        }
      ]
    },
    {
      "cell_type": "code",
      "metadata": {
        "id": "crgTOtKWfBCN",
        "colab_type": "code",
        "outputId": "18169a0a-de84-4f78-b4e4-121dda370392",
        "colab": {
          "base_uri": "https://localhost:8080/",
          "height": 1000
        }
      },
      "source": [
        "plot_confusion_matrix_and_report(nk_features_test_pad, nk_labels_test, rnn_model)"
      ],
      "execution_count": 0,
      "outputs": [
        {
          "output_type": "stream",
          "text": [
            "Classification report\n",
            "              precision    recall  f1-score   support\n",
            "\n",
            "    negative       0.80      0.44      0.57         9\n",
            "    positive       0.77      0.94      0.85        18\n",
            "\n",
            "    accuracy                           0.78        27\n",
            "   macro avg       0.79      0.69      0.71        27\n",
            "weighted avg       0.78      0.78      0.76        27\n",
            "\n",
            "\r27/27 [==============================] - 0s 1ms/sample - loss: 0.5004 - acc: 0.7778\n",
            "Loss: 0.5004013776779175, Accuracy: 0.7777777910232544\n",
            "Confusion matrix.\n",
            "[[ 4  5]\n",
            " [ 1 17]]\n",
            "\n"
          ],
          "name": "stdout"
        },
        {
          "output_type": "display_data",
          "data": {
            "image/png": "[encoded data removed]",
            "text/plain": [
              "<Figure size 720x432 with 2 Axes>"
            ]
          },
          "metadata": {
            "tags": []
          }
        },
        {
          "output_type": "stream",
          "text": [
            "First 10 Errors\n",
            "Sample:  0\n",
            "Sentence:  family plan indeed very easy to switch to the family plan and one came with a broken headphone can hear but cannot be heard and one died today after less than two weeks of use\n",
            "True Label:0, Predicted Label:1\n",
            "\n",
            "Sample:  1\n",
            "Sentence:  the voice quality is very good and it gets great reception that is in places where you get t mobile coverage which is not that good see below\n",
            "True Label:1, Predicted Label:0\n",
            "\n",
            "Sample:  2\n",
            "Sentence:  finally i reiterate my thumbs down rating for t mobile as a carrier\n",
            "True Label:0, Predicted Label:1\n",
            "\n",
            "Sample:  3\n",
            "Sentence:  although i find it more convenient to use 1 touch dialing this phone does not have voice dialing\n",
            "True Label:0, Predicted Label:1\n",
            "\n",
            "Sample:  4\n",
            "Sentence:  its quiet\n",
            "True Label:0, Predicted Label:1\n",
            "\n",
            "Sample:  5\n",
            "Sentence:  the fact that the 0 key is the space key for text input is a bit confusing as many phones use the key instead\n",
            "True Label:0, Predicted Label:1\n",
            "\n"
          ],
          "name": "stdout"
        }
      ]
    },
    {
      "cell_type": "code",
      "metadata": {
        "id": "FjXCbOwLfl0h",
        "colab_type": "code",
        "colab": {}
      },
      "source": [
        "samples = [\n",
        "           'My charger isn\\'t working.',\n",
        "           'Good camera quality.',\n",
        "           'Over the years I\\'ve grown quite fond of the OnePlus alert slider on the side as it\\'s a great alternative to the iPhone’s mute switch.',\n",
        "           'Don’t buy the Samsung Galaxy Fold. It’s almost strange to have to write those words explicitly because after everything that has happened with this phone / tablet hybrid, you’d like to think that everybody would know the score already.',\n",
        "           'This one hasn’t broken, even after a few weeks of regular use.',\n",
        "           'The Galaxy Fold forces you to make too many compromises. You have to compromise on durability, on having a phone you can fit in your pocket, and, most of all, on price.',\n",
        "           'The menu options are uncreative , as you can \\'t see a full screen of menu items to pick from ; you have to scroll up and down to find what you \\'re looking for ( yes , this is minor , but not when you \\'re trying to keep your eye on the road ! )',\n",
        "           'The first night i got this phone i put it next to me when i went to bed just to listen to my favorite music station and the handset itself doesnt weight anything its too light and feel so comfy with it .'\n",
        "]"
      ],
      "execution_count": 0,
      "outputs": []
    },
    {
      "cell_type": "code",
      "metadata": {
        "id": "y9djlVuWi7VF",
        "colab_type": "code",
        "outputId": "c5cacd4e-3dd0-4bfc-e1f7-aae6e02d8464",
        "colab": {
          "base_uri": "https://localhost:8080/",
          "height": 182
        }
      },
      "source": [
        "predict_new_samples(samples, tokenizer, rnn_model, max_tokens=max_tokens)"
      ],
      "execution_count": 0,
      "outputs": [
        {
          "output_type": "stream",
          "text": [
            "Sample:My charger isn't working., Prediction:1\n",
            "Sample:Good camera quality., Prediction:1\n",
            "Sample:Over the years I've grown quite fond of the OnePlus alert slider on the side as it's a great alternative to the iPhone’s mute switch., Prediction:1\n",
            "Sample:Don’t buy the Samsung Galaxy Fold. It’s almost strange to have to write those words explicitly because after everything that has happened with this phone / tablet hybrid, you’d like to think that everybody would know the score already., Prediction:1\n",
            "Sample:This one hasn’t broken, even after a few weeks of regular use., Prediction:1\n",
            "Sample:The Galaxy Fold forces you to make too many compromises. You have to compromise on durability, on having a phone you can fit in your pocket, and, most of all, on price., Prediction:1\n",
            "Sample:The menu options are uncreative , as you can 't see a full screen of menu items to pick from ; you have to scroll up and down to find what you 're looking for ( yes , this is minor , but not when you 're trying to keep your eye on the road ! ), Prediction:0\n",
            "Sample:The first night i got this phone i put it next to me when i went to bed just to listen to my favorite music station and the handset itself doesnt weight anything its too light and feel so comfy with it ., Prediction:1\n"
          ],
          "name": "stdout"
        }
      ]
    }
  ]
}